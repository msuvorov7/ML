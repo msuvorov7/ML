{
 "cells": [
  {
   "cell_type": "markdown",
   "metadata": {},
   "source": [
    "## Классификация по задержкам отправления"
   ]
  },
  {
   "cell_type": "markdown",
   "metadata": {},
   "source": [
    "В ходе проделанной работы по предсказанию DEPARTURE_DELAY мы достигли потолка, поскольку нет явных признаков, позволяющих спрогнозировать задержку. В связи с этим было принято решение вернуться к самому началу - конструированию признаков и составлению работего датасета.\n",
    "\n",
    "Углубившись в проблемматику авиаперевозок, были выделены следующие основные причины опозданий авиарейсов:\n",
    "1) Плохие погодные условия\n",
    "\n",
    "2) Поздний прилёт самолёта с предыдущего рейса\n",
    "\n",
    "3) Неисправности самих самолётов\n",
    "\n",
    "4) Тенденции отдельных авиакомпаний задерживать рейсы\n",
    "\n",
    "Для учёта этих факторов были приняты следующие меры:"
   ]
  },
  {
   "cell_type": "markdown",
   "metadata": {},
   "source": [
    "### Индекс задержек для авиакомпаний"
   ]
  },
  {
   "cell_type": "markdown",
   "metadata": {},
   "source": [
    "Были собраны аналогичные данные по 2014 году, что позволило собрать небольшую историческую статистику по авиаперевозкам. Индекс задержек авиакомпаний высчитывался как отношение задержанных рейсов к общему количеству рейсов в течении года. По собственным соображениям, рейс будем считать задержанным, если DEPARTURE_DELAY > 5 минут"
   ]
  },
  {
   "cell_type": "markdown",
   "metadata": {},
   "source": [
    "### Является ли день выходным"
   ]
  },
  {
   "cell_type": "markdown",
   "metadata": {},
   "source": [
    "Как было видно из разведовательного анализа данных, больше всего вылетов было совершено в выходные дни. Логично предположить, что вероятность задержки рейсов в эти дни выше"
   ]
  },
  {
   "cell_type": "markdown",
   "metadata": {},
   "source": [
    "### Статистика городов"
   ]
  },
  {
   "cell_type": "markdown",
   "metadata": {},
   "source": [
    "Благодаря статистике за предыдущий год, можем посмотреть на тенденции задержек авиарейсов, сгруппированных по отдельным городам, месяцам и дням недели. Предполагаем, что, если в каком-то городе был задержан один рейс (например, из-за плохих погодных условий), то и последующие рейсы в этом городе так же могут быть отложены"
   ]
  },
  {
   "cell_type": "markdown",
   "metadata": {},
   "source": [
    "### Прилёт самолёта с опозданием"
   ]
  },
  {
   "cell_type": "markdown",
   "metadata": {},
   "source": [
    "Обычно, авиакомпании распределяют рейсы так, чтобы между ними был примерно час времени, для подготовки самолёта к следующему вылету. Соответственно, если самолёт прилетел позже запланированного времени, то и шансы на его опоздание к отлёту на следующий рейс повышаются"
   ]
  },
  {
   "cell_type": "markdown",
   "metadata": {},
   "source": [
    "### Индекс опозданий самолётов"
   ]
  },
  {
   "cell_type": "markdown",
   "metadata": {},
   "source": [
    "Воспользовавшись данными за предыдущий год, был подсчитан индекс опозданий для самолётов. Делается это в предположении, что некоторые самолёты старые, поэтому часто нуждаются в техническом обслуживании. Из-за этого повышается вероятность задержки рейса у конкретного самолёта"
   ]
  },
  {
   "cell_type": "markdown",
   "metadata": {},
   "source": [
    "### Погода"
   ]
  },
  {
   "cell_type": "markdown",
   "metadata": {},
   "source": [
    "Со стороннего ресурса были скачаны данные погоды за 2015 год по кажжому из городов отправления с периодичностью в 1 час"
   ]
  },
  {
   "cell_type": "code",
   "execution_count": 1,
   "metadata": {},
   "outputs": [],
   "source": [
    "import pandas as pd\n",
    "import numpy as np\n",
    "import seaborn as sns\n",
    "import plotly.graph_objs as go\n",
    "from matplotlib import pyplot as plt\n",
    "from plotly.subplots import make_subplots\n",
    "from sklearn.model_selection import train_test_split\n",
    "from sklearn.preprocessing import StandardScaler\n",
    "from IPython.display import display\n",
    "from tqdm import tqdm\n",
    "%matplotlib inline\n",
    "pd.options.display.max_columns = 50"
   ]
  },
  {
   "cell_type": "code",
   "execution_count": 2,
   "metadata": {},
   "outputs": [],
   "source": [
    "from sklearn.metrics import classification_report, confusion_matrix, plot_confusion_matrix, precision_recall_curve\n",
    "from xgboost import XGBClassifier\n",
    "from sklearn.linear_model import LogisticRegression, LinearRegression, ARDRegression\n",
    "from sklearn.svm import LinearSVR, SVC, LinearSVC\n",
    "from keras.models import Sequential\n",
    "from keras.layers import Dense, ReLU\n",
    "from sklearn.metrics import mean_absolute_error\n",
    "from sklearn.ensemble import VotingClassifier"
   ]
  },
  {
   "cell_type": "code",
   "execution_count": 3,
   "metadata": {},
   "outputs": [],
   "source": [
    "def plot_train_val_loss(history, epochs):\n",
    "    history_dict = history.history\n",
    "    loss_values = history_dict['loss']\n",
    "    val_loss_values = history_dict['val_loss']\n",
    "    \n",
    "    epochs = range(1, epochs + 1)\n",
    "\n",
    "    plt.plot(epochs, loss_values, 'bo', label='Training loss')\n",
    "    plt.plot(epochs, val_loss_values, 'b', label='Validation loss')\n",
    "\n",
    "    plt.title('Training and validation loss')\n",
    "    plt.xlabel('Epochs')\n",
    "    plt.ylabel('Loss')\n",
    "    plt.legend()"
   ]
  },
  {
   "cell_type": "code",
   "execution_count": 4,
   "metadata": {},
   "outputs": [],
   "source": [
    "def plot_pr_curve(y_true, prediction):\n",
    "    precision, recall, thresholds = precision_recall_curve(y_true, prediction)\n",
    "    thresholds = [0] + thresholds.tolist()\n",
    "    plt.plot(thresholds, precision, label='precision');\n",
    "    plt.plot(thresholds, recall, label='recall');\n",
    "    plt.legend(); plt.xlabel('Threshold'); plt.ylabel('Precision or recall');\n",
    "    plt.title('Precision and recall for unbalanced dataset');"
   ]
  },
  {
   "cell_type": "code",
   "execution_count": 5,
   "metadata": {},
   "outputs": [
    {
     "name": "stdout",
     "output_type": "stream",
     "text": [
      "CPU times: user 32.6 s, sys: 12.7 s, total: 45.3 s\n",
      "Wall time: 47.7 s\n"
     ]
    }
   ],
   "source": [
    "%%time\n",
    "flights = pd.read_csv('dep_delay_df.csv')\n",
    "flights.drop(['YEAR','FLIGHTS'], axis=1, inplace=True)"
   ]
  },
  {
   "cell_type": "code",
   "execution_count": 6,
   "metadata": {},
   "outputs": [
    {
     "data": {
      "text/html": [
       "<div>\n",
       "<style scoped>\n",
       "    .dataframe tbody tr th:only-of-type {\n",
       "        vertical-align: middle;\n",
       "    }\n",
       "\n",
       "    .dataframe tbody tr th {\n",
       "        vertical-align: top;\n",
       "    }\n",
       "\n",
       "    .dataframe thead th {\n",
       "        text-align: right;\n",
       "    }\n",
       "</style>\n",
       "<table border=\"1\" class=\"dataframe\">\n",
       "  <thead>\n",
       "    <tr style=\"text-align: right;\">\n",
       "      <th></th>\n",
       "      <th>MONTH</th>\n",
       "      <th>DAY</th>\n",
       "      <th>DAY_OF_WEEK</th>\n",
       "      <th>AIRLINE</th>\n",
       "      <th>TAIL_NUM</th>\n",
       "      <th>FLIGHT_MUNBER</th>\n",
       "      <th>ORIGIN</th>\n",
       "      <th>ORIGIN_CITY_NAME</th>\n",
       "      <th>DEST</th>\n",
       "      <th>DEST_CITY_NAME</th>\n",
       "      <th>CRS_DEP_TIME</th>\n",
       "      <th>DEP_DELAY</th>\n",
       "      <th>DEP_DELAY_GROUP</th>\n",
       "      <th>CRS_ARR_TIME</th>\n",
       "      <th>DISTANCE</th>\n",
       "      <th>FIRST_DEP_TIME</th>\n",
       "      <th>TOTAL_ADD_GTIME</th>\n",
       "      <th>LONGEST_ADD_GTIME</th>\n",
       "      <th>maxtempC</th>\n",
       "      <th>mintempC</th>\n",
       "      <th>totalSnow_cm</th>\n",
       "      <th>sunHour</th>\n",
       "      <th>uvIndex</th>\n",
       "      <th>moon_illumination</th>\n",
       "      <th>tempC</th>\n",
       "      <th>...</th>\n",
       "      <th>visibility</th>\n",
       "      <th>pressure</th>\n",
       "      <th>cloudcover</th>\n",
       "      <th>HeatIndexC</th>\n",
       "      <th>DewPointC</th>\n",
       "      <th>WindChillC</th>\n",
       "      <th>WindGustKmph</th>\n",
       "      <th>FeelsLikeC</th>\n",
       "      <th>weatherCode_dest</th>\n",
       "      <th>COUNT</th>\n",
       "      <th>MEAN_DELAY</th>\n",
       "      <th>STD_DELAY</th>\n",
       "      <th>MIN_DELAY</th>\n",
       "      <th>25%_DELAY</th>\n",
       "      <th>50%_DELAY</th>\n",
       "      <th>75%_DELAY</th>\n",
       "      <th>MAX_DELAY</th>\n",
       "      <th>WEEKEND</th>\n",
       "      <th>LATE_AIRLINE_INDEX</th>\n",
       "      <th>LATE_TAIL_INDEX</th>\n",
       "      <th>LATE_ARR</th>\n",
       "      <th>LATE_DEP_1</th>\n",
       "      <th>LATE_DEP_2</th>\n",
       "      <th>LATE_DEP_3</th>\n",
       "      <th>LATE_DEP_4</th>\n",
       "    </tr>\n",
       "  </thead>\n",
       "  <tbody>\n",
       "    <tr>\n",
       "      <th>0</th>\n",
       "      <td>4</td>\n",
       "      <td>23</td>\n",
       "      <td>4</td>\n",
       "      <td>619639</td>\n",
       "      <td>108773</td>\n",
       "      <td>165</td>\n",
       "      <td>640831</td>\n",
       "      <td>323905</td>\n",
       "      <td>795909</td>\n",
       "      <td>376956</td>\n",
       "      <td>1210</td>\n",
       "      <td>-8.0</td>\n",
       "      <td>-1.0</td>\n",
       "      <td>1414</td>\n",
       "      <td>1440.0</td>\n",
       "      <td>NaN</td>\n",
       "      <td>NaN</td>\n",
       "      <td>NaN</td>\n",
       "      <td>8</td>\n",
       "      <td>3</td>\n",
       "      <td>0.0</td>\n",
       "      <td>13.8</td>\n",
       "      <td>3</td>\n",
       "      <td>29</td>\n",
       "      <td>8</td>\n",
       "      <td>...</td>\n",
       "      <td>10</td>\n",
       "      <td>1018</td>\n",
       "      <td>23</td>\n",
       "      <td>8</td>\n",
       "      <td>-1</td>\n",
       "      <td>5</td>\n",
       "      <td>17</td>\n",
       "      <td>5</td>\n",
       "      <td>200.0</td>\n",
       "      <td>10.0</td>\n",
       "      <td>-1.600000</td>\n",
       "      <td>8.408990</td>\n",
       "      <td>-11.0</td>\n",
       "      <td>-5.5</td>\n",
       "      <td>-3.0</td>\n",
       "      <td>-0.50</td>\n",
       "      <td>20.0</td>\n",
       "      <td>0</td>\n",
       "      <td>0.119103</td>\n",
       "      <td>0.108824</td>\n",
       "      <td>0.0</td>\n",
       "      <td>0.0</td>\n",
       "      <td>0.0</td>\n",
       "      <td>0.0</td>\n",
       "      <td>0.0</td>\n",
       "    </tr>\n",
       "    <tr>\n",
       "      <th>1</th>\n",
       "      <td>4</td>\n",
       "      <td>24</td>\n",
       "      <td>5</td>\n",
       "      <td>619639</td>\n",
       "      <td>246721</td>\n",
       "      <td>165</td>\n",
       "      <td>640831</td>\n",
       "      <td>323905</td>\n",
       "      <td>795909</td>\n",
       "      <td>376956</td>\n",
       "      <td>1210</td>\n",
       "      <td>4.0</td>\n",
       "      <td>0.0</td>\n",
       "      <td>1414</td>\n",
       "      <td>1440.0</td>\n",
       "      <td>NaN</td>\n",
       "      <td>NaN</td>\n",
       "      <td>NaN</td>\n",
       "      <td>11</td>\n",
       "      <td>3</td>\n",
       "      <td>0.0</td>\n",
       "      <td>12.2</td>\n",
       "      <td>3</td>\n",
       "      <td>36</td>\n",
       "      <td>11</td>\n",
       "      <td>...</td>\n",
       "      <td>10</td>\n",
       "      <td>1017</td>\n",
       "      <td>46</td>\n",
       "      <td>11</td>\n",
       "      <td>-1</td>\n",
       "      <td>10</td>\n",
       "      <td>22</td>\n",
       "      <td>10</td>\n",
       "      <td>176.0</td>\n",
       "      <td>19.0</td>\n",
       "      <td>22.157895</td>\n",
       "      <td>49.944706</td>\n",
       "      <td>-9.0</td>\n",
       "      <td>-3.0</td>\n",
       "      <td>-1.0</td>\n",
       "      <td>12.00</td>\n",
       "      <td>140.0</td>\n",
       "      <td>0</td>\n",
       "      <td>0.119103</td>\n",
       "      <td>0.123330</td>\n",
       "      <td>0.0</td>\n",
       "      <td>1.0</td>\n",
       "      <td>1.0</td>\n",
       "      <td>0.0</td>\n",
       "      <td>0.0</td>\n",
       "    </tr>\n",
       "    <tr>\n",
       "      <th>2</th>\n",
       "      <td>4</td>\n",
       "      <td>25</td>\n",
       "      <td>6</td>\n",
       "      <td>619639</td>\n",
       "      <td>840720</td>\n",
       "      <td>165</td>\n",
       "      <td>640831</td>\n",
       "      <td>323905</td>\n",
       "      <td>795909</td>\n",
       "      <td>376956</td>\n",
       "      <td>1210</td>\n",
       "      <td>44.0</td>\n",
       "      <td>2.0</td>\n",
       "      <td>1414</td>\n",
       "      <td>1440.0</td>\n",
       "      <td>NaN</td>\n",
       "      <td>NaN</td>\n",
       "      <td>NaN</td>\n",
       "      <td>7</td>\n",
       "      <td>4</td>\n",
       "      <td>0.0</td>\n",
       "      <td>9.8</td>\n",
       "      <td>2</td>\n",
       "      <td>44</td>\n",
       "      <td>5</td>\n",
       "      <td>...</td>\n",
       "      <td>10</td>\n",
       "      <td>1009</td>\n",
       "      <td>100</td>\n",
       "      <td>5</td>\n",
       "      <td>4</td>\n",
       "      <td>2</td>\n",
       "      <td>22</td>\n",
       "      <td>2</td>\n",
       "      <td>113.0</td>\n",
       "      <td>11.0</td>\n",
       "      <td>1.636364</td>\n",
       "      <td>16.698938</td>\n",
       "      <td>-7.0</td>\n",
       "      <td>-5.5</td>\n",
       "      <td>-4.0</td>\n",
       "      <td>-0.50</td>\n",
       "      <td>51.0</td>\n",
       "      <td>1</td>\n",
       "      <td>0.119103</td>\n",
       "      <td>0.136511</td>\n",
       "      <td>0.0</td>\n",
       "      <td>0.0</td>\n",
       "      <td>1.0</td>\n",
       "      <td>0.0</td>\n",
       "      <td>0.0</td>\n",
       "    </tr>\n",
       "    <tr>\n",
       "      <th>3</th>\n",
       "      <td>4</td>\n",
       "      <td>26</td>\n",
       "      <td>7</td>\n",
       "      <td>619639</td>\n",
       "      <td>39014</td>\n",
       "      <td>165</td>\n",
       "      <td>640831</td>\n",
       "      <td>323905</td>\n",
       "      <td>795909</td>\n",
       "      <td>376956</td>\n",
       "      <td>1210</td>\n",
       "      <td>-5.0</td>\n",
       "      <td>-1.0</td>\n",
       "      <td>1414</td>\n",
       "      <td>1440.0</td>\n",
       "      <td>NaN</td>\n",
       "      <td>NaN</td>\n",
       "      <td>NaN</td>\n",
       "      <td>8</td>\n",
       "      <td>3</td>\n",
       "      <td>0.0</td>\n",
       "      <td>13.9</td>\n",
       "      <td>3</td>\n",
       "      <td>52</td>\n",
       "      <td>8</td>\n",
       "      <td>...</td>\n",
       "      <td>10</td>\n",
       "      <td>1017</td>\n",
       "      <td>3</td>\n",
       "      <td>8</td>\n",
       "      <td>2</td>\n",
       "      <td>6</td>\n",
       "      <td>23</td>\n",
       "      <td>6</td>\n",
       "      <td>116.0</td>\n",
       "      <td>22.0</td>\n",
       "      <td>17.272727</td>\n",
       "      <td>37.386249</td>\n",
       "      <td>-8.0</td>\n",
       "      <td>-4.0</td>\n",
       "      <td>-1.5</td>\n",
       "      <td>15.50</td>\n",
       "      <td>128.0</td>\n",
       "      <td>1</td>\n",
       "      <td>0.119103</td>\n",
       "      <td>0.110572</td>\n",
       "      <td>0.0</td>\n",
       "      <td>0.0</td>\n",
       "      <td>1.0</td>\n",
       "      <td>1.0</td>\n",
       "      <td>0.0</td>\n",
       "    </tr>\n",
       "    <tr>\n",
       "      <th>4</th>\n",
       "      <td>4</td>\n",
       "      <td>27</td>\n",
       "      <td>1</td>\n",
       "      <td>619639</td>\n",
       "      <td>854242</td>\n",
       "      <td>165</td>\n",
       "      <td>640831</td>\n",
       "      <td>323905</td>\n",
       "      <td>795909</td>\n",
       "      <td>376956</td>\n",
       "      <td>1210</td>\n",
       "      <td>9.0</td>\n",
       "      <td>0.0</td>\n",
       "      <td>1414</td>\n",
       "      <td>1440.0</td>\n",
       "      <td>NaN</td>\n",
       "      <td>NaN</td>\n",
       "      <td>NaN</td>\n",
       "      <td>7</td>\n",
       "      <td>3</td>\n",
       "      <td>0.0</td>\n",
       "      <td>13.9</td>\n",
       "      <td>3</td>\n",
       "      <td>59</td>\n",
       "      <td>7</td>\n",
       "      <td>...</td>\n",
       "      <td>10</td>\n",
       "      <td>1021</td>\n",
       "      <td>14</td>\n",
       "      <td>7</td>\n",
       "      <td>3</td>\n",
       "      <td>3</td>\n",
       "      <td>39</td>\n",
       "      <td>3</td>\n",
       "      <td>113.0</td>\n",
       "      <td>18.0</td>\n",
       "      <td>8.333333</td>\n",
       "      <td>26.648033</td>\n",
       "      <td>-6.0</td>\n",
       "      <td>-4.0</td>\n",
       "      <td>-2.5</td>\n",
       "      <td>2.25</td>\n",
       "      <td>94.0</td>\n",
       "      <td>0</td>\n",
       "      <td>0.119103</td>\n",
       "      <td>0.119418</td>\n",
       "      <td>1.0</td>\n",
       "      <td>1.0</td>\n",
       "      <td>1.0</td>\n",
       "      <td>0.0</td>\n",
       "      <td>0.0</td>\n",
       "    </tr>\n",
       "  </tbody>\n",
       "</table>\n",
       "<p>5 rows × 55 columns</p>\n",
       "</div>"
      ],
      "text/plain": [
       "   MONTH  DAY  DAY_OF_WEEK  AIRLINE  TAIL_NUM  FLIGHT_MUNBER  ORIGIN  \\\n",
       "0      4   23            4   619639    108773            165  640831   \n",
       "1      4   24            5   619639    246721            165  640831   \n",
       "2      4   25            6   619639    840720            165  640831   \n",
       "3      4   26            7   619639     39014            165  640831   \n",
       "4      4   27            1   619639    854242            165  640831   \n",
       "\n",
       "   ORIGIN_CITY_NAME    DEST  DEST_CITY_NAME  CRS_DEP_TIME  DEP_DELAY  \\\n",
       "0            323905  795909          376956          1210       -8.0   \n",
       "1            323905  795909          376956          1210        4.0   \n",
       "2            323905  795909          376956          1210       44.0   \n",
       "3            323905  795909          376956          1210       -5.0   \n",
       "4            323905  795909          376956          1210        9.0   \n",
       "\n",
       "   DEP_DELAY_GROUP  CRS_ARR_TIME  DISTANCE  FIRST_DEP_TIME  TOTAL_ADD_GTIME  \\\n",
       "0             -1.0          1414    1440.0             NaN              NaN   \n",
       "1              0.0          1414    1440.0             NaN              NaN   \n",
       "2              2.0          1414    1440.0             NaN              NaN   \n",
       "3             -1.0          1414    1440.0             NaN              NaN   \n",
       "4              0.0          1414    1440.0             NaN              NaN   \n",
       "\n",
       "   LONGEST_ADD_GTIME  maxtempC  mintempC  totalSnow_cm  sunHour  uvIndex  \\\n",
       "0                NaN         8         3           0.0     13.8        3   \n",
       "1                NaN        11         3           0.0     12.2        3   \n",
       "2                NaN         7         4           0.0      9.8        2   \n",
       "3                NaN         8         3           0.0     13.9        3   \n",
       "4                NaN         7         3           0.0     13.9        3   \n",
       "\n",
       "   moon_illumination  tempC  ...  visibility  pressure  cloudcover  \\\n",
       "0                 29      8  ...          10      1018          23   \n",
       "1                 36     11  ...          10      1017          46   \n",
       "2                 44      5  ...          10      1009         100   \n",
       "3                 52      8  ...          10      1017           3   \n",
       "4                 59      7  ...          10      1021          14   \n",
       "\n",
       "   HeatIndexC  DewPointC  WindChillC  WindGustKmph  FeelsLikeC  \\\n",
       "0           8         -1           5            17           5   \n",
       "1          11         -1          10            22          10   \n",
       "2           5          4           2            22           2   \n",
       "3           8          2           6            23           6   \n",
       "4           7          3           3            39           3   \n",
       "\n",
       "   weatherCode_dest  COUNT  MEAN_DELAY  STD_DELAY  MIN_DELAY  25%_DELAY  \\\n",
       "0             200.0   10.0   -1.600000   8.408990      -11.0       -5.5   \n",
       "1             176.0   19.0   22.157895  49.944706       -9.0       -3.0   \n",
       "2             113.0   11.0    1.636364  16.698938       -7.0       -5.5   \n",
       "3             116.0   22.0   17.272727  37.386249       -8.0       -4.0   \n",
       "4             113.0   18.0    8.333333  26.648033       -6.0       -4.0   \n",
       "\n",
       "   50%_DELAY  75%_DELAY  MAX_DELAY  WEEKEND  LATE_AIRLINE_INDEX  \\\n",
       "0       -3.0      -0.50       20.0        0            0.119103   \n",
       "1       -1.0      12.00      140.0        0            0.119103   \n",
       "2       -4.0      -0.50       51.0        1            0.119103   \n",
       "3       -1.5      15.50      128.0        1            0.119103   \n",
       "4       -2.5       2.25       94.0        0            0.119103   \n",
       "\n",
       "   LATE_TAIL_INDEX  LATE_ARR  LATE_DEP_1  LATE_DEP_2  LATE_DEP_3  LATE_DEP_4  \n",
       "0         0.108824       0.0         0.0         0.0         0.0         0.0  \n",
       "1         0.123330       0.0         1.0         1.0         0.0         0.0  \n",
       "2         0.136511       0.0         0.0         1.0         0.0         0.0  \n",
       "3         0.110572       0.0         0.0         1.0         1.0         0.0  \n",
       "4         0.119418       1.0         1.0         1.0         0.0         0.0  \n",
       "\n",
       "[5 rows x 55 columns]"
      ]
     },
     "execution_count": 6,
     "metadata": {},
     "output_type": "execute_result"
    }
   ],
   "source": [
    "flights.head()"
   ]
  },
  {
   "cell_type": "code",
   "execution_count": 7,
   "metadata": {},
   "outputs": [],
   "source": [
    "# Function to calculate missing values by column\n",
    "def missing_values_table(df):\n",
    "        # Total missing values\n",
    "        mis_val = df.isnull().sum()\n",
    "        \n",
    "        # Percentage of missing values\n",
    "        mis_val_percent = 100 * df.isnull().sum() / len(df)\n",
    "        \n",
    "        # Make a table with the results\n",
    "        mis_val_table = pd.concat([mis_val, mis_val_percent], axis=1)\n",
    "        \n",
    "        # Rename the columns\n",
    "        mis_val_table_ren_columns = mis_val_table.rename(\n",
    "        columns = {0 : 'Missing Values', 1 : '% of Total Values'})\n",
    "        \n",
    "        # Sort the table by percentage of missing descending\n",
    "        mis_val_table_ren_columns = mis_val_table_ren_columns[\n",
    "            mis_val_table_ren_columns.iloc[:,1] != 0].sort_values(\n",
    "        '% of Total Values', ascending=False).round(1)\n",
    "        \n",
    "        # Print some summary information\n",
    "        print (\"Your selected dataframe has \" + str(df.shape[1]) + \" columns.\\n\"      \n",
    "            \"There are \" + str(mis_val_table_ren_columns.shape[0]) +\n",
    "              \" columns that have missing values.\")\n",
    "        \n",
    "        # Return the dataframe with missing information\n",
    "        return mis_val_table_ren_columns"
   ]
  },
  {
   "cell_type": "code",
   "execution_count": 8,
   "metadata": {},
   "outputs": [
    {
     "name": "stdout",
     "output_type": "stream",
     "text": [
      "Your selected dataframe has 55 columns.\n",
      "There are 15 columns that have missing values.\n"
     ]
    },
    {
     "data": {
      "text/html": [
       "<div>\n",
       "<style scoped>\n",
       "    .dataframe tbody tr th:only-of-type {\n",
       "        vertical-align: middle;\n",
       "    }\n",
       "\n",
       "    .dataframe tbody tr th {\n",
       "        vertical-align: top;\n",
       "    }\n",
       "\n",
       "    .dataframe thead th {\n",
       "        text-align: right;\n",
       "    }\n",
       "</style>\n",
       "<table border=\"1\" class=\"dataframe\">\n",
       "  <thead>\n",
       "    <tr style=\"text-align: right;\">\n",
       "      <th></th>\n",
       "      <th>Missing Values</th>\n",
       "      <th>% of Total Values</th>\n",
       "    </tr>\n",
       "  </thead>\n",
       "  <tbody>\n",
       "    <tr>\n",
       "      <th>FIRST_DEP_TIME</th>\n",
       "      <td>5680437</td>\n",
       "      <td>99.4</td>\n",
       "    </tr>\n",
       "    <tr>\n",
       "      <th>TOTAL_ADD_GTIME</th>\n",
       "      <td>5680437</td>\n",
       "      <td>99.4</td>\n",
       "    </tr>\n",
       "    <tr>\n",
       "      <th>LONGEST_ADD_GTIME</th>\n",
       "      <td>5680437</td>\n",
       "      <td>99.4</td>\n",
       "    </tr>\n",
       "    <tr>\n",
       "      <th>STD_DELAY</th>\n",
       "      <td>2293529</td>\n",
       "      <td>40.1</td>\n",
       "    </tr>\n",
       "    <tr>\n",
       "      <th>MEAN_DELAY</th>\n",
       "      <td>1752091</td>\n",
       "      <td>30.7</td>\n",
       "    </tr>\n",
       "    <tr>\n",
       "      <th>MIN_DELAY</th>\n",
       "      <td>1752091</td>\n",
       "      <td>30.7</td>\n",
       "    </tr>\n",
       "    <tr>\n",
       "      <th>25%_DELAY</th>\n",
       "      <td>1752091</td>\n",
       "      <td>30.7</td>\n",
       "    </tr>\n",
       "    <tr>\n",
       "      <th>50%_DELAY</th>\n",
       "      <td>1752091</td>\n",
       "      <td>30.7</td>\n",
       "    </tr>\n",
       "    <tr>\n",
       "      <th>75%_DELAY</th>\n",
       "      <td>1752091</td>\n",
       "      <td>30.7</td>\n",
       "    </tr>\n",
       "    <tr>\n",
       "      <th>MAX_DELAY</th>\n",
       "      <td>1752091</td>\n",
       "      <td>30.7</td>\n",
       "    </tr>\n",
       "    <tr>\n",
       "      <th>COUNT</th>\n",
       "      <td>1736013</td>\n",
       "      <td>30.4</td>\n",
       "    </tr>\n",
       "    <tr>\n",
       "      <th>weatherCode_dest</th>\n",
       "      <td>342404</td>\n",
       "      <td>6.0</td>\n",
       "    </tr>\n",
       "    <tr>\n",
       "      <th>weatherCode_origin</th>\n",
       "      <td>341936</td>\n",
       "      <td>6.0</td>\n",
       "    </tr>\n",
       "    <tr>\n",
       "      <th>LATE_TAIL_INDEX</th>\n",
       "      <td>322081</td>\n",
       "      <td>5.6</td>\n",
       "    </tr>\n",
       "    <tr>\n",
       "      <th>LATE_AIRLINE_INDEX</th>\n",
       "      <td>159167</td>\n",
       "      <td>2.8</td>\n",
       "    </tr>\n",
       "  </tbody>\n",
       "</table>\n",
       "</div>"
      ],
      "text/plain": [
       "                    Missing Values  % of Total Values\n",
       "FIRST_DEP_TIME             5680437               99.4\n",
       "TOTAL_ADD_GTIME            5680437               99.4\n",
       "LONGEST_ADD_GTIME          5680437               99.4\n",
       "STD_DELAY                  2293529               40.1\n",
       "MEAN_DELAY                 1752091               30.7\n",
       "MIN_DELAY                  1752091               30.7\n",
       "25%_DELAY                  1752091               30.7\n",
       "50%_DELAY                  1752091               30.7\n",
       "75%_DELAY                  1752091               30.7\n",
       "MAX_DELAY                  1752091               30.7\n",
       "COUNT                      1736013               30.4\n",
       "weatherCode_dest            342404                6.0\n",
       "weatherCode_origin          341936                6.0\n",
       "LATE_TAIL_INDEX             322081                5.6\n",
       "LATE_AIRLINE_INDEX          159167                2.8"
      ]
     },
     "execution_count": 8,
     "metadata": {},
     "output_type": "execute_result"
    }
   ],
   "source": [
    "missing_values_table(flights)"
   ]
  },
  {
   "cell_type": "code",
   "execution_count": 9,
   "metadata": {},
   "outputs": [],
   "source": [
    "scaler = StandardScaler()"
   ]
  },
  {
   "cell_type": "code",
   "execution_count": 10,
   "metadata": {},
   "outputs": [],
   "source": [
    "flights.FIRST_DEP_TIME.fillna(0, inplace=True)\n",
    "flights.TOTAL_ADD_GTIME.fillna(0, inplace=True)\n",
    "flights.LONGEST_ADD_GTIME.fillna(0, inplace=True)"
   ]
  },
  {
   "cell_type": "code",
   "execution_count": 11,
   "metadata": {},
   "outputs": [],
   "source": [
    "flights.dropna(inplace=True)"
   ]
  },
  {
   "cell_type": "code",
   "execution_count": 12,
   "metadata": {},
   "outputs": [
    {
     "data": {
      "text/plain": [
       "(3031712, 55)"
      ]
     },
     "execution_count": 12,
     "metadata": {},
     "output_type": "execute_result"
    }
   ],
   "source": [
    "flights.shape"
   ]
  },
  {
   "cell_type": "markdown",
   "metadata": {},
   "source": [
    "### Пробуем найти основную часть задержек"
   ]
  },
  {
   "cell_type": "code",
   "execution_count": 12,
   "metadata": {},
   "outputs": [],
   "source": [
    "# Calculate first and third quartile\n",
    "first_quartile = flights['DEP_DELAY'].describe()['25%']\n",
    "third_quartile = flights['DEP_DELAY'].describe()['75%']\n",
    "\n",
    "# Interquartile range\n",
    "iqr = third_quartile - first_quartile\n",
    "\n",
    "# Remove outliers\n",
    "data = flights[(flights['DEP_DELAY'] > (first_quartile - 3/2 * iqr)) &\n",
    "            (flights['DEP_DELAY'] < (third_quartile + 3/2 * iqr))].copy()"
   ]
  },
  {
   "cell_type": "code",
   "execution_count": 13,
   "metadata": {},
   "outputs": [
    {
     "data": {
      "text/plain": [
       "<AxesSubplot:xlabel='DEP_DELAY', ylabel='Count'>"
      ]
     },
     "execution_count": 13,
     "metadata": {},
     "output_type": "execute_result"
    },
    {
     "data": {
      "image/png": "[encoded data removed]",
      "text/plain": [
       "<Figure size 720x504 with 1 Axes>"
      ]
     },
     "metadata": {
      "needs_background": "light"
     },
     "output_type": "display_data"
    }
   ],
   "source": [
    "plt.figure(figsize=(10,7))\n",
    "sns.histplot(data.DEP_DELAY, bins=50)"
   ]
  },
  {
   "cell_type": "code",
   "execution_count": 14,
   "metadata": {},
   "outputs": [
    {
     "data": {
      "text/plain": [
       "(2631868, 55)"
      ]
     },
     "execution_count": 14,
     "metadata": {},
     "output_type": "execute_result"
    }
   ],
   "source": [
    "data.shape"
   ]
  },
  {
   "cell_type": "markdown",
   "metadata": {},
   "source": [
    "На гистограмме хорошо видно, что большая часть задержек находится левее нуля. Это значит, что самолёт вылетел чуть раньше запланированного. Поэтому, попробуем разбить выборку на 2 класса: DEPARTURE_DELAY < 15 минут и DEPARTURE_DELAY >= 15 минут."
   ]
  },
  {
   "cell_type": "markdown",
   "metadata": {},
   "source": [
    "Забегая вперёд, попробуем построить линейную регрессию на полученных данных и посмотреть на результат."
   ]
  },
  {
   "cell_type": "code",
   "execution_count": 14,
   "metadata": {},
   "outputs": [],
   "source": [
    "data.dropna(inplace=True)\n",
    "X = data.drop(['DEP_DELAY', 'DEP_DELAY_GROUP'], axis=1)\n",
    "y = data.DEP_DELAY\n",
    "X_train, X_test, y_train, y_test = train_test_split(X, y, random_state=42, shuffle=True)\n",
    "X_train = scaler.fit_transform(X_train)\n",
    "X_test = scaler.transform(X_test)"
   ]
  },
  {
   "cell_type": "code",
   "execution_count": 15,
   "metadata": {},
   "outputs": [
    {
     "name": "stdout",
     "output_type": "stream",
     "text": [
      "CPU times: user 15.2 s, sys: 1.65 s, total: 16.8 s\n",
      "Wall time: 5.82 s\n"
     ]
    },
    {
     "data": {
      "text/plain": [
       "LinearRegression()"
      ]
     },
     "execution_count": 15,
     "metadata": {},
     "output_type": "execute_result"
    }
   ],
   "source": [
    "%%time\n",
    "lin = LinearRegression()\n",
    "lin.fit(X_train, y_train)"
   ]
  },
  {
   "cell_type": "code",
   "execution_count": 16,
   "metadata": {},
   "outputs": [
    {
     "data": {
      "text/plain": [
       "5.061955725299539"
      ]
     },
     "execution_count": 16,
     "metadata": {},
     "output_type": "execute_result"
    }
   ],
   "source": [
    "prediction = lin.predict(X_test)\n",
    "mean_absolute_error(y_test, prediction)"
   ]
  },
  {
   "cell_type": "code",
   "execution_count": 17,
   "metadata": {},
   "outputs": [
    {
     "data": {
      "text/plain": [
       "<matplotlib.legend.Legend at 0x7fe3e61c8460>"
      ]
     },
     "execution_count": 17,
     "metadata": {},
     "output_type": "execute_result"
    },
    {
     "data": {
      "image/png": "[encoded data removed]",
      "text/plain": [
       "<Figure size 792x576 with 1 Axes>"
      ]
     },
     "metadata": {
      "needs_background": "light"
     },
     "output_type": "display_data"
    }
   ],
   "source": [
    "plt.figure(figsize=(11,8))\n",
    "plt.scatter(range(100), y_test[:100], label='test')\n",
    "plt.scatter(range(100), prediction[:100], color='red', label='prediction')\n",
    "plt.legend()"
   ]
  },
  {
   "cell_type": "markdown",
   "metadata": {},
   "source": [
    "Ещё одна регрессия"
   ]
  },
  {
   "cell_type": "code",
   "execution_count": 18,
   "metadata": {},
   "outputs": [
    {
     "name": "stdout",
     "output_type": "stream",
     "text": [
      "CPU times: user 3min 17s, sys: 9.9 s, total: 3min 26s\n",
      "Wall time: 1min 1s\n"
     ]
    },
    {
     "data": {
      "text/plain": [
       "ARDRegression()"
      ]
     },
     "execution_count": 18,
     "metadata": {},
     "output_type": "execute_result"
    }
   ],
   "source": [
    "%%time\n",
    "ard = ARDRegression()\n",
    "ard.fit(X_train, y_train)"
   ]
  },
  {
   "cell_type": "code",
   "execution_count": 19,
   "metadata": {},
   "outputs": [
    {
     "data": {
      "text/plain": [
       "5.06194819973043"
      ]
     },
     "execution_count": 19,
     "metadata": {},
     "output_type": "execute_result"
    }
   ],
   "source": [
    "prediction = ard.predict(X_test)\n",
    "mean_absolute_error(y_test, prediction)"
   ]
  },
  {
   "cell_type": "code",
   "execution_count": 20,
   "metadata": {},
   "outputs": [
    {
     "data": {
      "text/plain": [
       "<matplotlib.legend.Legend at 0x7fe349598f10>"
      ]
     },
     "execution_count": 20,
     "metadata": {},
     "output_type": "execute_result"
    },
    {
     "data": {
      "image/png": "[encoded data removed]",
      "text/plain": [
       "<Figure size 792x576 with 1 Axes>"
      ]
     },
     "metadata": {
      "needs_background": "light"
     },
     "output_type": "display_data"
    }
   ],
   "source": [
    "plt.figure(figsize=(11,8))\n",
    "plt.scatter(range(100), y_test[:100], label='test')\n",
    "plt.scatter(range(100), prediction[:100], color='red', label='prediction')\n",
    "plt.legend()"
   ]
  },
  {
   "cell_type": "markdown",
   "metadata": {},
   "source": [
    "Посмотрим на фаворита - метод опорных векторов"
   ]
  },
  {
   "cell_type": "code",
   "execution_count": 22,
   "metadata": {},
   "outputs": [
    {
     "name": "stdout",
     "output_type": "stream",
     "text": [
      "CPU times: user 22min 5s, sys: 1.69 s, total: 22min 7s\n",
      "Wall time: 22min 10s\n"
     ]
    },
    {
     "data": {
      "text/plain": [
       "LinearSVR()"
      ]
     },
     "execution_count": 22,
     "metadata": {},
     "output_type": "execute_result"
    }
   ],
   "source": [
    "%%time\n",
    "svr = LinearSVR()\n",
    "svr.fit(X_train, y_train)"
   ]
  },
  {
   "cell_type": "code",
   "execution_count": 23,
   "metadata": {},
   "outputs": [
    {
     "data": {
      "text/plain": [
       "4.694620644280556"
      ]
     },
     "execution_count": 23,
     "metadata": {},
     "output_type": "execute_result"
    }
   ],
   "source": [
    "prediction = svr.predict(X_test)\n",
    "mean_absolute_error(y_test, prediction)"
   ]
  },
  {
   "cell_type": "code",
   "execution_count": 24,
   "metadata": {},
   "outputs": [
    {
     "data": {
      "text/plain": [
       "<matplotlib.legend.Legend at 0x7f851cd76a60>"
      ]
     },
     "execution_count": 24,
     "metadata": {},
     "output_type": "execute_result"
    },
    {
     "data": {
      "image/png": "[encoded data removed]",
      "text/plain": [
       "<Figure size 792x576 with 1 Axes>"
      ]
     },
     "metadata": {
      "needs_background": "light"
     },
     "output_type": "display_data"
    }
   ],
   "source": [
    "plt.figure(figsize=(11,8))\n",
    "plt.scatter(range(100), y_test[:100], label='test')\n",
    "plt.scatter(range(100), prediction[:100], color='red', label='prediction')\n",
    "plt.legend()"
   ]
  },
  {
   "cell_type": "markdown",
   "metadata": {},
   "source": [
    "Нейросетевая регрессия"
   ]
  },
  {
   "cell_type": "code",
   "execution_count": 24,
   "metadata": {},
   "outputs": [
    {
     "name": "stdout",
     "output_type": "stream",
     "text": [
      "Epoch 1/15\n",
      "6169/6169 [==============================] - 17s 3ms/step - loss: 46.3779 - val_loss: 44.1868\n",
      "Epoch 2/15\n",
      "6169/6169 [==============================] - 16s 3ms/step - loss: 44.0350 - val_loss: 43.6300\n",
      "Epoch 3/15\n",
      "6169/6169 [==============================] - 16s 3ms/step - loss: 43.6236 - val_loss: 43.3655\n",
      "Epoch 4/15\n",
      "6169/6169 [==============================] - 16s 3ms/step - loss: 43.4271 - val_loss: 43.2875\n",
      "Epoch 5/15\n",
      "6169/6169 [==============================] - 16s 3ms/step - loss: 43.2631 - val_loss: 43.3206\n",
      "Epoch 6/15\n",
      "6169/6169 [==============================] - 16s 3ms/step - loss: 43.1354 - val_loss: 43.1100\n",
      "Epoch 7/15\n",
      "6169/6169 [==============================] - 16s 3ms/step - loss: 42.9762 - val_loss: 43.0654\n",
      "Epoch 8/15\n",
      "6169/6169 [==============================] - 16s 3ms/step - loss: 42.8592 - val_loss: 43.0075\n",
      "Epoch 9/15\n",
      "6169/6169 [==============================] - 17s 3ms/step - loss: 42.9499 - val_loss: 42.9555\n",
      "Epoch 10/15\n",
      "6169/6169 [==============================] - 16s 3ms/step - loss: 42.8258 - val_loss: 42.9089\n",
      "Epoch 11/15\n",
      "6169/6169 [==============================] - 16s 3ms/step - loss: 42.9007 - val_loss: 42.8649\n",
      "Epoch 12/15\n",
      "6169/6169 [==============================] - 17s 3ms/step - loss: 42.8476 - val_loss: 42.8711\n",
      "Epoch 13/15\n",
      "6169/6169 [==============================] - 16s 3ms/step - loss: 42.8361 - val_loss: 42.8289\n",
      "Epoch 14/15\n",
      "6169/6169 [==============================] - 16s 3ms/step - loss: 42.7870 - val_loss: 42.7990\n",
      "Epoch 15/15\n",
      "6169/6169 [==============================] - 16s 3ms/step - loss: 42.7444 - val_loss: 42.7766\n"
     ]
    }
   ],
   "source": [
    "network = Sequential()\n",
    "network.add(Dense(32, input_dim=X_train.shape[1], activation='relu', kernel_initializer='he_normal'))\n",
    "network.add(Dense(32, activation='relu', kernel_initializer='he_normal'))\n",
    "network.add(Dense(32, activation='relu', kernel_initializer='he_normal'))\n",
    "network.add(Dense(1))\n",
    "\n",
    "network.compile(optimizer=\"adam\", loss=\"mse\")\n",
    "\n",
    "history = network.fit(X_train, y_train, epochs=15, validation_split=0.2, batch_size=256)"
   ]
  },
  {
   "cell_type": "code",
   "execution_count": 25,
   "metadata": {},
   "outputs": [
    {
     "data": {
      "image/png": "[encoded data removed]",
      "text/plain": [
       "<Figure size 432x288 with 1 Axes>"
      ]
     },
     "metadata": {
      "needs_background": "light"
     },
     "output_type": "display_data"
    }
   ],
   "source": [
    "plot_train_val_loss(history, 15)"
   ]
  },
  {
   "cell_type": "code",
   "execution_count": 26,
   "metadata": {},
   "outputs": [
    {
     "data": {
      "text/plain": [
       "4.701193863679527"
      ]
     },
     "execution_count": 26,
     "metadata": {},
     "output_type": "execute_result"
    }
   ],
   "source": [
    "prediction = network.predict(X_test)\n",
    "mean_absolute_error(y_test, prediction)"
   ]
  },
  {
   "cell_type": "code",
   "execution_count": 27,
   "metadata": {},
   "outputs": [
    {
     "data": {
      "text/plain": [
       "<matplotlib.legend.Legend at 0x7fe338180970>"
      ]
     },
     "execution_count": 27,
     "metadata": {},
     "output_type": "execute_result"
    },
    {
     "data": {
      "image/png": "[encoded data removed]",
      "text/plain": [
       "<Figure size 792x576 with 1 Axes>"
      ]
     },
     "metadata": {
      "needs_background": "light"
     },
     "output_type": "display_data"
    }
   ],
   "source": [
    "plt.figure(figsize=(11,8))\n",
    "plt.scatter(range(100), y_test[:100], label='test')\n",
    "plt.scatter(range(100), prediction[:100], color='red', label='prediction')\n",
    "plt.legend()"
   ]
  },
  {
   "cell_type": "markdown",
   "metadata": {},
   "source": [
    "## Разметка данных"
   ]
  },
  {
   "cell_type": "code",
   "execution_count": 13,
   "metadata": {},
   "outputs": [],
   "source": [
    "def mark_outliers(x):\n",
    "    if (x >= 15):\n",
    "        return 1\n",
    "    else:\n",
    "        return 0"
   ]
  },
  {
   "cell_type": "code",
   "execution_count": 14,
   "metadata": {},
   "outputs": [],
   "source": [
    "flights['target'] = flights.DEP_DELAY.apply(mark_outliers)"
   ]
  },
  {
   "cell_type": "code",
   "execution_count": 15,
   "metadata": {},
   "outputs": [
    {
     "data": {
      "text/plain": [
       "0    2452001\n",
       "1     579711\n",
       "Name: target, dtype: int64"
      ]
     },
     "execution_count": 15,
     "metadata": {},
     "output_type": "execute_result"
    }
   ],
   "source": [
    "flights.target.value_counts()"
   ]
  },
  {
   "cell_type": "code",
   "execution_count": 18,
   "metadata": {},
   "outputs": [
    {
     "data": {
      "text/plain": [
       "<AxesSubplot:xlabel='DEP_DELAY', ylabel='Count'>"
      ]
     },
     "execution_count": 18,
     "metadata": {},
     "output_type": "execute_result"
    },
    {
     "data": {
      "image/png": "[encoded data removed]",
      "text/plain": [
       "<Figure size 432x288 with 1 Axes>"
      ]
     },
     "metadata": {
      "needs_background": "light"
     },
     "output_type": "display_data"
    }
   ],
   "source": [
    "sns.histplot(data=flights[flights.target == 1], x='DEP_DELAY', bins=100)"
   ]
  },
  {
   "cell_type": "code",
   "execution_count": 19,
   "metadata": {},
   "outputs": [
    {
     "data": {
      "text/plain": [
       "<AxesSubplot:xlabel='DEP_DELAY', ylabel='Count'>"
      ]
     },
     "execution_count": 19,
     "metadata": {},
     "output_type": "execute_result"
    },
    {
     "data": {
      "image/png": "[encoded data removed]",
      "text/plain": [
       "<Figure size 432x288 with 1 Axes>"
      ]
     },
     "metadata": {
      "needs_background": "light"
     },
     "output_type": "display_data"
    }
   ],
   "source": [
    "sns.histplot(data=flights[flights.target == 0], x='DEP_DELAY', bins=100)"
   ]
  },
  {
   "cell_type": "markdown",
   "metadata": {},
   "source": [
    "## Прогноз"
   ]
  },
  {
   "cell_type": "code",
   "execution_count": 16,
   "metadata": {},
   "outputs": [],
   "source": [
    "flights.target = flights.target.map(int)"
   ]
  },
  {
   "cell_type": "code",
   "execution_count": 17,
   "metadata": {},
   "outputs": [],
   "source": [
    "def fit_model(model, X, y):\n",
    "    X_train, X_test, y_train, y_test = train_test_split(X, y, random_state=42, shuffle=True)\n",
    "    X_train = scaler.fit_transform(X_train)\n",
    "    X_test = scaler.transform(X_test)\n",
    "    model.fit(X_train, y_train)\n",
    "    print(classification_report(y_test, model.predict(X_test)))\n",
    "    return model"
   ]
  },
  {
   "cell_type": "code",
   "execution_count": 22,
   "metadata": {},
   "outputs": [
    {
     "name": "stdout",
     "output_type": "stream",
     "text": [
      "              precision    recall  f1-score   support\n",
      "\n",
      "           0       0.87      0.96      0.91    613014\n",
      "           1       0.69      0.38      0.49    144914\n",
      "\n",
      "    accuracy                           0.85    757928\n",
      "   macro avg       0.78      0.67      0.70    757928\n",
      "weighted avg       0.83      0.85      0.83    757928\n",
      "\n",
      "CPU times: user 1min 29s, sys: 8.14 s, total: 1min 37s\n",
      "Wall time: 1min 49s\n"
     ]
    }
   ],
   "source": [
    "%%time\n",
    "logit = fit_model(LogisticRegression(max_iter=200), \n",
    "                  flights.drop(['DEP_DELAY', 'target', 'DEP_DELAY_GROUP'], axis=1),\n",
    "                  flights.target)"
   ]
  },
  {
   "cell_type": "code",
   "execution_count": 23,
   "metadata": {
    "scrolled": true
   },
   "outputs": [
    {
     "data": {
      "text/html": [
       "<style  type=\"text/css\" >\n",
       "#T_c5346356_8e4e_11eb_8dee_b942fc27f0e0row0_col1,#T_c5346356_8e4e_11eb_8dee_b942fc27f0e0row44_col1{\n",
       "            background-color:  #c0c9e2;\n",
       "            color:  #000000;\n",
       "        }#T_c5346356_8e4e_11eb_8dee_b942fc27f0e0row1_col1,#T_c5346356_8e4e_11eb_8dee_b942fc27f0e0row41_col1{\n",
       "            background-color:  #c5cce3;\n",
       "            color:  #000000;\n",
       "        }#T_c5346356_8e4e_11eb_8dee_b942fc27f0e0row2_col1,#T_c5346356_8e4e_11eb_8dee_b942fc27f0e0row7_col1,#T_c5346356_8e4e_11eb_8dee_b942fc27f0e0row20_col1{\n",
       "            background-color:  #bfc9e1;\n",
       "            color:  #000000;\n",
       "        }#T_c5346356_8e4e_11eb_8dee_b942fc27f0e0row3_col1,#T_c5346356_8e4e_11eb_8dee_b942fc27f0e0row4_col1,#T_c5346356_8e4e_11eb_8dee_b942fc27f0e0row9_col1,#T_c5346356_8e4e_11eb_8dee_b942fc27f0e0row42_col1{\n",
       "            background-color:  #c1cae2;\n",
       "            color:  #000000;\n",
       "        }#T_c5346356_8e4e_11eb_8dee_b942fc27f0e0row5_col1{\n",
       "            background-color:  #d2d3e7;\n",
       "            color:  #000000;\n",
       "        }#T_c5346356_8e4e_11eb_8dee_b942fc27f0e0row6_col1,#T_c5346356_8e4e_11eb_8dee_b942fc27f0e0row18_col1,#T_c5346356_8e4e_11eb_8dee_b942fc27f0e0row25_col1,#T_c5346356_8e4e_11eb_8dee_b942fc27f0e0row40_col1{\n",
       "            background-color:  #b9c6e0;\n",
       "            color:  #000000;\n",
       "        }#T_c5346356_8e4e_11eb_8dee_b942fc27f0e0row8_col1{\n",
       "            background-color:  #c8cde4;\n",
       "            color:  #000000;\n",
       "        }#T_c5346356_8e4e_11eb_8dee_b942fc27f0e0row10_col1{\n",
       "            background-color:  #5a9ec9;\n",
       "            color:  #000000;\n",
       "        }#T_c5346356_8e4e_11eb_8dee_b942fc27f0e0row11_col1{\n",
       "            background-color:  #a5bddb;\n",
       "            color:  #000000;\n",
       "        }#T_c5346356_8e4e_11eb_8dee_b942fc27f0e0row12_col1,#T_c5346356_8e4e_11eb_8dee_b942fc27f0e0row38_col1{\n",
       "            background-color:  #adc1dd;\n",
       "            color:  #000000;\n",
       "        }#T_c5346356_8e4e_11eb_8dee_b942fc27f0e0row13_col1,#T_c5346356_8e4e_11eb_8dee_b942fc27f0e0row36_col1{\n",
       "            background-color:  #b3c3de;\n",
       "            color:  #000000;\n",
       "        }#T_c5346356_8e4e_11eb_8dee_b942fc27f0e0row14_col1,#T_c5346356_8e4e_11eb_8dee_b942fc27f0e0row15_col1{\n",
       "            background-color:  #046096;\n",
       "            color:  #f1f1f1;\n",
       "        }#T_c5346356_8e4e_11eb_8dee_b942fc27f0e0row16_col1{\n",
       "            background-color:  #fbf4f9;\n",
       "            color:  #000000;\n",
       "        }#T_c5346356_8e4e_11eb_8dee_b942fc27f0e0row17_col1,#T_c5346356_8e4e_11eb_8dee_b942fc27f0e0row34_col1{\n",
       "            background-color:  #e9e5f1;\n",
       "            color:  #000000;\n",
       "        }#T_c5346356_8e4e_11eb_8dee_b942fc27f0e0row19_col1{\n",
       "            background-color:  #bdc8e1;\n",
       "            color:  #000000;\n",
       "        }#T_c5346356_8e4e_11eb_8dee_b942fc27f0e0row21_col1{\n",
       "            background-color:  #bbc7e0;\n",
       "            color:  #000000;\n",
       "        }#T_c5346356_8e4e_11eb_8dee_b942fc27f0e0row22_col1{\n",
       "            background-color:  #0771b1;\n",
       "            color:  #f1f1f1;\n",
       "        }#T_c5346356_8e4e_11eb_8dee_b942fc27f0e0row23_col1{\n",
       "            background-color:  #89b1d4;\n",
       "            color:  #000000;\n",
       "        }#T_c5346356_8e4e_11eb_8dee_b942fc27f0e0row24_col1,#T_c5346356_8e4e_11eb_8dee_b942fc27f0e0row30_col1{\n",
       "            background-color:  #b8c6e0;\n",
       "            color:  #000000;\n",
       "        }#T_c5346356_8e4e_11eb_8dee_b942fc27f0e0row26_col1{\n",
       "            background-color:  #b4c4df;\n",
       "            color:  #000000;\n",
       "        }#T_c5346356_8e4e_11eb_8dee_b942fc27f0e0row27_col1,#T_c5346356_8e4e_11eb_8dee_b942fc27f0e0row35_col1{\n",
       "            background-color:  #a1bbda;\n",
       "            color:  #000000;\n",
       "        }#T_c5346356_8e4e_11eb_8dee_b942fc27f0e0row28_col1,#T_c5346356_8e4e_11eb_8dee_b942fc27f0e0row29_col1{\n",
       "            background-color:  #c2cbe2;\n",
       "            color:  #000000;\n",
       "        }#T_c5346356_8e4e_11eb_8dee_b942fc27f0e0row31_col1{\n",
       "            background-color:  #4295c3;\n",
       "            color:  #000000;\n",
       "        }#T_c5346356_8e4e_11eb_8dee_b942fc27f0e0row32_col1{\n",
       "            background-color:  #e3e0ee;\n",
       "            color:  #000000;\n",
       "        }#T_c5346356_8e4e_11eb_8dee_b942fc27f0e0row33_col1{\n",
       "            background-color:  #fff7fb;\n",
       "            color:  #000000;\n",
       "        }#T_c5346356_8e4e_11eb_8dee_b942fc27f0e0row37_col1{\n",
       "            background-color:  #c9cee4;\n",
       "            color:  #000000;\n",
       "        }#T_c5346356_8e4e_11eb_8dee_b942fc27f0e0row39_col1,#T_c5346356_8e4e_11eb_8dee_b942fc27f0e0row43_col1{\n",
       "            background-color:  #cccfe5;\n",
       "            color:  #000000;\n",
       "        }#T_c5346356_8e4e_11eb_8dee_b942fc27f0e0row45_col1{\n",
       "            background-color:  #c6cce3;\n",
       "            color:  #000000;\n",
       "        }#T_c5346356_8e4e_11eb_8dee_b942fc27f0e0row46_col1{\n",
       "            background-color:  #8fb4d6;\n",
       "            color:  #000000;\n",
       "        }#T_c5346356_8e4e_11eb_8dee_b942fc27f0e0row47_col1,#T_c5346356_8e4e_11eb_8dee_b942fc27f0e0row51_col1{\n",
       "            background-color:  #93b5d6;\n",
       "            color:  #000000;\n",
       "        }#T_c5346356_8e4e_11eb_8dee_b942fc27f0e0row48_col1{\n",
       "            background-color:  #023858;\n",
       "            color:  #f1f1f1;\n",
       "        }#T_c5346356_8e4e_11eb_8dee_b942fc27f0e0row49_col1{\n",
       "            background-color:  #8eb3d5;\n",
       "            color:  #000000;\n",
       "        }#T_c5346356_8e4e_11eb_8dee_b942fc27f0e0row50_col1{\n",
       "            background-color:  #91b5d6;\n",
       "            color:  #000000;\n",
       "        }#T_c5346356_8e4e_11eb_8dee_b942fc27f0e0row52_col1{\n",
       "            background-color:  #96b6d7;\n",
       "            color:  #000000;\n",
       "        }</style><table id=\"T_c5346356_8e4e_11eb_8dee_b942fc27f0e0\" ><thead>    <tr>        <th class=\"blank level0\" ></th>        <th class=\"col_heading level0 col0\" >features</th>        <th class=\"col_heading level0 col1\" >col</th>    </tr></thead><tbody>\n",
       "                <tr>\n",
       "                        <th id=\"T_c5346356_8e4e_11eb_8dee_b942fc27f0e0level0_row0\" class=\"row_heading level0 row0\" >0</th>\n",
       "                        <td id=\"T_c5346356_8e4e_11eb_8dee_b942fc27f0e0row0_col0\" class=\"data row0 col0\" >MONTH</td>\n",
       "                        <td id=\"T_c5346356_8e4e_11eb_8dee_b942fc27f0e0row0_col1\" class=\"data row0 col1\" >0.002717</td>\n",
       "            </tr>\n",
       "            <tr>\n",
       "                        <th id=\"T_c5346356_8e4e_11eb_8dee_b942fc27f0e0level0_row1\" class=\"row_heading level0 row1\" >1</th>\n",
       "                        <td id=\"T_c5346356_8e4e_11eb_8dee_b942fc27f0e0row1_col0\" class=\"data row1 col0\" >DAY</td>\n",
       "                        <td id=\"T_c5346356_8e4e_11eb_8dee_b942fc27f0e0row1_col1\" class=\"data row1 col1\" >-0.012764</td>\n",
       "            </tr>\n",
       "            <tr>\n",
       "                        <th id=\"T_c5346356_8e4e_11eb_8dee_b942fc27f0e0level0_row2\" class=\"row_heading level0 row2\" >2</th>\n",
       "                        <td id=\"T_c5346356_8e4e_11eb_8dee_b942fc27f0e0row2_col0\" class=\"data row2 col0\" >DAY_OF_WEEK</td>\n",
       "                        <td id=\"T_c5346356_8e4e_11eb_8dee_b942fc27f0e0row2_col1\" class=\"data row2 col1\" >0.010078</td>\n",
       "            </tr>\n",
       "            <tr>\n",
       "                        <th id=\"T_c5346356_8e4e_11eb_8dee_b942fc27f0e0level0_row3\" class=\"row_heading level0 row3\" >3</th>\n",
       "                        <td id=\"T_c5346356_8e4e_11eb_8dee_b942fc27f0e0row3_col0\" class=\"data row3 col0\" >AIRLINE</td>\n",
       "                        <td id=\"T_c5346356_8e4e_11eb_8dee_b942fc27f0e0row3_col1\" class=\"data row3 col1\" >-0.000843</td>\n",
       "            </tr>\n",
       "            <tr>\n",
       "                        <th id=\"T_c5346356_8e4e_11eb_8dee_b942fc27f0e0level0_row4\" class=\"row_heading level0 row4\" >4</th>\n",
       "                        <td id=\"T_c5346356_8e4e_11eb_8dee_b942fc27f0e0row4_col0\" class=\"data row4 col0\" >TAIL_NUM</td>\n",
       "                        <td id=\"T_c5346356_8e4e_11eb_8dee_b942fc27f0e0row4_col1\" class=\"data row4 col1\" >-0.002932</td>\n",
       "            </tr>\n",
       "            <tr>\n",
       "                        <th id=\"T_c5346356_8e4e_11eb_8dee_b942fc27f0e0level0_row5\" class=\"row_heading level0 row5\" >5</th>\n",
       "                        <td id=\"T_c5346356_8e4e_11eb_8dee_b942fc27f0e0row5_col0\" class=\"data row5 col0\" >FLIGHT_MUNBER</td>\n",
       "                        <td id=\"T_c5346356_8e4e_11eb_8dee_b942fc27f0e0row5_col1\" class=\"data row5 col1\" >-0.065304</td>\n",
       "            </tr>\n",
       "            <tr>\n",
       "                        <th id=\"T_c5346356_8e4e_11eb_8dee_b942fc27f0e0level0_row6\" class=\"row_heading level0 row6\" >6</th>\n",
       "                        <td id=\"T_c5346356_8e4e_11eb_8dee_b942fc27f0e0row6_col0\" class=\"data row6 col0\" >ORIGIN</td>\n",
       "                        <td id=\"T_c5346356_8e4e_11eb_8dee_b942fc27f0e0row6_col1\" class=\"data row6 col1\" >0.025357</td>\n",
       "            </tr>\n",
       "            <tr>\n",
       "                        <th id=\"T_c5346356_8e4e_11eb_8dee_b942fc27f0e0level0_row7\" class=\"row_heading level0 row7\" >7</th>\n",
       "                        <td id=\"T_c5346356_8e4e_11eb_8dee_b942fc27f0e0row7_col0\" class=\"data row7 col0\" >ORIGIN_CITY_NAME</td>\n",
       "                        <td id=\"T_c5346356_8e4e_11eb_8dee_b942fc27f0e0row7_col1\" class=\"data row7 col1\" >0.007389</td>\n",
       "            </tr>\n",
       "            <tr>\n",
       "                        <th id=\"T_c5346356_8e4e_11eb_8dee_b942fc27f0e0level0_row8\" class=\"row_heading level0 row8\" >8</th>\n",
       "                        <td id=\"T_c5346356_8e4e_11eb_8dee_b942fc27f0e0row8_col0\" class=\"data row8 col0\" >DEST</td>\n",
       "                        <td id=\"T_c5346356_8e4e_11eb_8dee_b942fc27f0e0row8_col1\" class=\"data row8 col1\" >-0.025721</td>\n",
       "            </tr>\n",
       "            <tr>\n",
       "                        <th id=\"T_c5346356_8e4e_11eb_8dee_b942fc27f0e0level0_row9\" class=\"row_heading level0 row9\" >9</th>\n",
       "                        <td id=\"T_c5346356_8e4e_11eb_8dee_b942fc27f0e0row9_col0\" class=\"data row9 col0\" >DEST_CITY_NAME</td>\n",
       "                        <td id=\"T_c5346356_8e4e_11eb_8dee_b942fc27f0e0row9_col1\" class=\"data row9 col1\" >-0.000965</td>\n",
       "            </tr>\n",
       "            <tr>\n",
       "                        <th id=\"T_c5346356_8e4e_11eb_8dee_b942fc27f0e0level0_row10\" class=\"row_heading level0 row10\" >10</th>\n",
       "                        <td id=\"T_c5346356_8e4e_11eb_8dee_b942fc27f0e0row10_col0\" class=\"data row10 col0\" >CRS_DEP_TIME</td>\n",
       "                        <td id=\"T_c5346356_8e4e_11eb_8dee_b942fc27f0e0row10_col1\" class=\"data row10 col1\" >0.305092</td>\n",
       "            </tr>\n",
       "            <tr>\n",
       "                        <th id=\"T_c5346356_8e4e_11eb_8dee_b942fc27f0e0level0_row11\" class=\"row_heading level0 row11\" >11</th>\n",
       "                        <td id=\"T_c5346356_8e4e_11eb_8dee_b942fc27f0e0row11_col0\" class=\"data row11 col0\" >CRS_ARR_TIME</td>\n",
       "                        <td id=\"T_c5346356_8e4e_11eb_8dee_b942fc27f0e0row11_col1\" class=\"data row11 col1\" >0.094014</td>\n",
       "            </tr>\n",
       "            <tr>\n",
       "                        <th id=\"T_c5346356_8e4e_11eb_8dee_b942fc27f0e0level0_row12\" class=\"row_heading level0 row12\" >12</th>\n",
       "                        <td id=\"T_c5346356_8e4e_11eb_8dee_b942fc27f0e0row12_col0\" class=\"data row12 col0\" >DISTANCE</td>\n",
       "                        <td id=\"T_c5346356_8e4e_11eb_8dee_b942fc27f0e0row12_col1\" class=\"data row12 col1\" >0.067590</td>\n",
       "            </tr>\n",
       "            <tr>\n",
       "                        <th id=\"T_c5346356_8e4e_11eb_8dee_b942fc27f0e0level0_row13\" class=\"row_heading level0 row13\" >13</th>\n",
       "                        <td id=\"T_c5346356_8e4e_11eb_8dee_b942fc27f0e0row13_col0\" class=\"data row13 col0\" >FIRST_DEP_TIME</td>\n",
       "                        <td id=\"T_c5346356_8e4e_11eb_8dee_b942fc27f0e0row13_col1\" class=\"data row13 col1\" >0.050940</td>\n",
       "            </tr>\n",
       "            <tr>\n",
       "                        <th id=\"T_c5346356_8e4e_11eb_8dee_b942fc27f0e0level0_row14\" class=\"row_heading level0 row14\" >14</th>\n",
       "                        <td id=\"T_c5346356_8e4e_11eb_8dee_b942fc27f0e0row14_col0\" class=\"data row14 col0\" >TOTAL_ADD_GTIME</td>\n",
       "                        <td id=\"T_c5346356_8e4e_11eb_8dee_b942fc27f0e0row14_col1\" class=\"data row14 col1\" >0.644047</td>\n",
       "            </tr>\n",
       "            <tr>\n",
       "                        <th id=\"T_c5346356_8e4e_11eb_8dee_b942fc27f0e0level0_row15\" class=\"row_heading level0 row15\" >15</th>\n",
       "                        <td id=\"T_c5346356_8e4e_11eb_8dee_b942fc27f0e0row15_col0\" class=\"data row15 col0\" >LONGEST_ADD_GTIME</td>\n",
       "                        <td id=\"T_c5346356_8e4e_11eb_8dee_b942fc27f0e0row15_col1\" class=\"data row15 col1\" >0.641151</td>\n",
       "            </tr>\n",
       "            <tr>\n",
       "                        <th id=\"T_c5346356_8e4e_11eb_8dee_b942fc27f0e0level0_row16\" class=\"row_heading level0 row16\" >16</th>\n",
       "                        <td id=\"T_c5346356_8e4e_11eb_8dee_b942fc27f0e0row16_col0\" class=\"data row16 col0\" >maxtempC</td>\n",
       "                        <td id=\"T_c5346356_8e4e_11eb_8dee_b942fc27f0e0row16_col1\" class=\"data row16 col1\" >-0.317415</td>\n",
       "            </tr>\n",
       "            <tr>\n",
       "                        <th id=\"T_c5346356_8e4e_11eb_8dee_b942fc27f0e0level0_row17\" class=\"row_heading level0 row17\" >17</th>\n",
       "                        <td id=\"T_c5346356_8e4e_11eb_8dee_b942fc27f0e0row17_col0\" class=\"data row17 col0\" >mintempC</td>\n",
       "                        <td id=\"T_c5346356_8e4e_11eb_8dee_b942fc27f0e0row17_col1\" class=\"data row17 col1\" >-0.183121</td>\n",
       "            </tr>\n",
       "            <tr>\n",
       "                        <th id=\"T_c5346356_8e4e_11eb_8dee_b942fc27f0e0level0_row18\" class=\"row_heading level0 row18\" >18</th>\n",
       "                        <td id=\"T_c5346356_8e4e_11eb_8dee_b942fc27f0e0row18_col0\" class=\"data row18 col0\" >totalSnow_cm</td>\n",
       "                        <td id=\"T_c5346356_8e4e_11eb_8dee_b942fc27f0e0row18_col1\" class=\"data row18 col1\" >0.027089</td>\n",
       "            </tr>\n",
       "            <tr>\n",
       "                        <th id=\"T_c5346356_8e4e_11eb_8dee_b942fc27f0e0level0_row19\" class=\"row_heading level0 row19\" >19</th>\n",
       "                        <td id=\"T_c5346356_8e4e_11eb_8dee_b942fc27f0e0row19_col0\" class=\"data row19 col0\" >sunHour</td>\n",
       "                        <td id=\"T_c5346356_8e4e_11eb_8dee_b942fc27f0e0row19_col1\" class=\"data row19 col1\" >0.010997</td>\n",
       "            </tr>\n",
       "            <tr>\n",
       "                        <th id=\"T_c5346356_8e4e_11eb_8dee_b942fc27f0e0level0_row20\" class=\"row_heading level0 row20\" >20</th>\n",
       "                        <td id=\"T_c5346356_8e4e_11eb_8dee_b942fc27f0e0row20_col0\" class=\"data row20 col0\" >uvIndex</td>\n",
       "                        <td id=\"T_c5346356_8e4e_11eb_8dee_b942fc27f0e0row20_col1\" class=\"data row20 col1\" >0.008118</td>\n",
       "            </tr>\n",
       "            <tr>\n",
       "                        <th id=\"T_c5346356_8e4e_11eb_8dee_b942fc27f0e0level0_row21\" class=\"row_heading level0 row21\" >21</th>\n",
       "                        <td id=\"T_c5346356_8e4e_11eb_8dee_b942fc27f0e0row21_col0\" class=\"data row21 col0\" >moon_illumination</td>\n",
       "                        <td id=\"T_c5346356_8e4e_11eb_8dee_b942fc27f0e0row21_col1\" class=\"data row21 col1\" >0.020703</td>\n",
       "            </tr>\n",
       "            <tr>\n",
       "                        <th id=\"T_c5346356_8e4e_11eb_8dee_b942fc27f0e0level0_row22\" class=\"row_heading level0 row22\" >22</th>\n",
       "                        <td id=\"T_c5346356_8e4e_11eb_8dee_b942fc27f0e0row22_col0\" class=\"data row22 col0\" >tempC</td>\n",
       "                        <td id=\"T_c5346356_8e4e_11eb_8dee_b942fc27f0e0row22_col1\" class=\"data row22 col1\" >0.530310</td>\n",
       "            </tr>\n",
       "            <tr>\n",
       "                        <th id=\"T_c5346356_8e4e_11eb_8dee_b942fc27f0e0level0_row23\" class=\"row_heading level0 row23\" >23</th>\n",
       "                        <td id=\"T_c5346356_8e4e_11eb_8dee_b942fc27f0e0row23_col0\" class=\"data row23 col0\" >windspeedKmph</td>\n",
       "                        <td id=\"T_c5346356_8e4e_11eb_8dee_b942fc27f0e0row23_col1\" class=\"data row23 col1\" >0.179916</td>\n",
       "            </tr>\n",
       "            <tr>\n",
       "                        <th id=\"T_c5346356_8e4e_11eb_8dee_b942fc27f0e0level0_row24\" class=\"row_heading level0 row24\" >24</th>\n",
       "                        <td id=\"T_c5346356_8e4e_11eb_8dee_b942fc27f0e0row24_col0\" class=\"data row24 col0\" >winddirDegree</td>\n",
       "                        <td id=\"T_c5346356_8e4e_11eb_8dee_b942fc27f0e0row24_col1\" class=\"data row24 col1\" >0.031360</td>\n",
       "            </tr>\n",
       "            <tr>\n",
       "                        <th id=\"T_c5346356_8e4e_11eb_8dee_b942fc27f0e0level0_row25\" class=\"row_heading level0 row25\" >25</th>\n",
       "                        <td id=\"T_c5346356_8e4e_11eb_8dee_b942fc27f0e0row25_col0\" class=\"data row25 col0\" >weatherCode_origin</td>\n",
       "                        <td id=\"T_c5346356_8e4e_11eb_8dee_b942fc27f0e0row25_col1\" class=\"data row25 col1\" >0.024749</td>\n",
       "            </tr>\n",
       "            <tr>\n",
       "                        <th id=\"T_c5346356_8e4e_11eb_8dee_b942fc27f0e0level0_row26\" class=\"row_heading level0 row26\" >26</th>\n",
       "                        <td id=\"T_c5346356_8e4e_11eb_8dee_b942fc27f0e0row26_col0\" class=\"data row26 col0\" >precipMM</td>\n",
       "                        <td id=\"T_c5346356_8e4e_11eb_8dee_b942fc27f0e0row26_col1\" class=\"data row26 col1\" >0.046526</td>\n",
       "            </tr>\n",
       "            <tr>\n",
       "                        <th id=\"T_c5346356_8e4e_11eb_8dee_b942fc27f0e0level0_row27\" class=\"row_heading level0 row27\" >27</th>\n",
       "                        <td id=\"T_c5346356_8e4e_11eb_8dee_b942fc27f0e0row27_col0\" class=\"data row27 col0\" >humidity</td>\n",
       "                        <td id=\"T_c5346356_8e4e_11eb_8dee_b942fc27f0e0row27_col1\" class=\"data row27 col1\" >0.111012</td>\n",
       "            </tr>\n",
       "            <tr>\n",
       "                        <th id=\"T_c5346356_8e4e_11eb_8dee_b942fc27f0e0level0_row28\" class=\"row_heading level0 row28\" >28</th>\n",
       "                        <td id=\"T_c5346356_8e4e_11eb_8dee_b942fc27f0e0row28_col0\" class=\"data row28 col0\" >visibility</td>\n",
       "                        <td id=\"T_c5346356_8e4e_11eb_8dee_b942fc27f0e0row28_col1\" class=\"data row28 col1\" >-0.006440</td>\n",
       "            </tr>\n",
       "            <tr>\n",
       "                        <th id=\"T_c5346356_8e4e_11eb_8dee_b942fc27f0e0level0_row29\" class=\"row_heading level0 row29\" >29</th>\n",
       "                        <td id=\"T_c5346356_8e4e_11eb_8dee_b942fc27f0e0row29_col0\" class=\"data row29 col0\" >pressure</td>\n",
       "                        <td id=\"T_c5346356_8e4e_11eb_8dee_b942fc27f0e0row29_col1\" class=\"data row29 col1\" >-0.006480</td>\n",
       "            </tr>\n",
       "            <tr>\n",
       "                        <th id=\"T_c5346356_8e4e_11eb_8dee_b942fc27f0e0level0_row30\" class=\"row_heading level0 row30\" >30</th>\n",
       "                        <td id=\"T_c5346356_8e4e_11eb_8dee_b942fc27f0e0row30_col0\" class=\"data row30 col0\" >cloudcover</td>\n",
       "                        <td id=\"T_c5346356_8e4e_11eb_8dee_b942fc27f0e0row30_col1\" class=\"data row30 col1\" >0.029880</td>\n",
       "            </tr>\n",
       "            <tr>\n",
       "                        <th id=\"T_c5346356_8e4e_11eb_8dee_b942fc27f0e0level0_row31\" class=\"row_heading level0 row31\" >31</th>\n",
       "                        <td id=\"T_c5346356_8e4e_11eb_8dee_b942fc27f0e0row31_col0\" class=\"data row31 col0\" >HeatIndexC</td>\n",
       "                        <td id=\"T_c5346356_8e4e_11eb_8dee_b942fc27f0e0row31_col1\" class=\"data row31 col1\" >0.357035</td>\n",
       "            </tr>\n",
       "            <tr>\n",
       "                        <th id=\"T_c5346356_8e4e_11eb_8dee_b942fc27f0e0level0_row32\" class=\"row_heading level0 row32\" >32</th>\n",
       "                        <td id=\"T_c5346356_8e4e_11eb_8dee_b942fc27f0e0row32_col0\" class=\"data row32 col0\" >DewPointC</td>\n",
       "                        <td id=\"T_c5346356_8e4e_11eb_8dee_b942fc27f0e0row32_col1\" class=\"data row32 col1\" >-0.151126</td>\n",
       "            </tr>\n",
       "            <tr>\n",
       "                        <th id=\"T_c5346356_8e4e_11eb_8dee_b942fc27f0e0level0_row33\" class=\"row_heading level0 row33\" >33</th>\n",
       "                        <td id=\"T_c5346356_8e4e_11eb_8dee_b942fc27f0e0row33_col0\" class=\"data row33 col0\" >WindChillC</td>\n",
       "                        <td id=\"T_c5346356_8e4e_11eb_8dee_b942fc27f0e0row33_col1\" class=\"data row33 col1\" >-0.348422</td>\n",
       "            </tr>\n",
       "            <tr>\n",
       "                        <th id=\"T_c5346356_8e4e_11eb_8dee_b942fc27f0e0level0_row34\" class=\"row_heading level0 row34\" >34</th>\n",
       "                        <td id=\"T_c5346356_8e4e_11eb_8dee_b942fc27f0e0row34_col0\" class=\"data row34 col0\" >WindGustKmph</td>\n",
       "                        <td id=\"T_c5346356_8e4e_11eb_8dee_b942fc27f0e0row34_col1\" class=\"data row34 col1\" >-0.184781</td>\n",
       "            </tr>\n",
       "            <tr>\n",
       "                        <th id=\"T_c5346356_8e4e_11eb_8dee_b942fc27f0e0level0_row35\" class=\"row_heading level0 row35\" >35</th>\n",
       "                        <td id=\"T_c5346356_8e4e_11eb_8dee_b942fc27f0e0row35_col0\" class=\"data row35 col0\" >FeelsLikeC</td>\n",
       "                        <td id=\"T_c5346356_8e4e_11eb_8dee_b942fc27f0e0row35_col1\" class=\"data row35 col1\" >0.109939</td>\n",
       "            </tr>\n",
       "            <tr>\n",
       "                        <th id=\"T_c5346356_8e4e_11eb_8dee_b942fc27f0e0level0_row36\" class=\"row_heading level0 row36\" >36</th>\n",
       "                        <td id=\"T_c5346356_8e4e_11eb_8dee_b942fc27f0e0row36_col0\" class=\"data row36 col0\" >weatherCode_dest</td>\n",
       "                        <td id=\"T_c5346356_8e4e_11eb_8dee_b942fc27f0e0row36_col1\" class=\"data row36 col1\" >0.051356</td>\n",
       "            </tr>\n",
       "            <tr>\n",
       "                        <th id=\"T_c5346356_8e4e_11eb_8dee_b942fc27f0e0level0_row37\" class=\"row_heading level0 row37\" >37</th>\n",
       "                        <td id=\"T_c5346356_8e4e_11eb_8dee_b942fc27f0e0row37_col0\" class=\"data row37 col0\" >COUNT</td>\n",
       "                        <td id=\"T_c5346356_8e4e_11eb_8dee_b942fc27f0e0row37_col1\" class=\"data row37 col1\" >-0.029638</td>\n",
       "            </tr>\n",
       "            <tr>\n",
       "                        <th id=\"T_c5346356_8e4e_11eb_8dee_b942fc27f0e0level0_row38\" class=\"row_heading level0 row38\" >38</th>\n",
       "                        <td id=\"T_c5346356_8e4e_11eb_8dee_b942fc27f0e0row38_col0\" class=\"data row38 col0\" >MEAN_DELAY</td>\n",
       "                        <td id=\"T_c5346356_8e4e_11eb_8dee_b942fc27f0e0row38_col1\" class=\"data row38 col1\" >0.068411</td>\n",
       "            </tr>\n",
       "            <tr>\n",
       "                        <th id=\"T_c5346356_8e4e_11eb_8dee_b942fc27f0e0level0_row39\" class=\"row_heading level0 row39\" >39</th>\n",
       "                        <td id=\"T_c5346356_8e4e_11eb_8dee_b942fc27f0e0row39_col0\" class=\"data row39 col0\" >STD_DELAY</td>\n",
       "                        <td id=\"T_c5346356_8e4e_11eb_8dee_b942fc27f0e0row39_col1\" class=\"data row39 col1\" >-0.038800</td>\n",
       "            </tr>\n",
       "            <tr>\n",
       "                        <th id=\"T_c5346356_8e4e_11eb_8dee_b942fc27f0e0level0_row40\" class=\"row_heading level0 row40\" >40</th>\n",
       "                        <td id=\"T_c5346356_8e4e_11eb_8dee_b942fc27f0e0row40_col0\" class=\"data row40 col0\" >MIN_DELAY</td>\n",
       "                        <td id=\"T_c5346356_8e4e_11eb_8dee_b942fc27f0e0row40_col1\" class=\"data row40 col1\" >0.024958</td>\n",
       "            </tr>\n",
       "            <tr>\n",
       "                        <th id=\"T_c5346356_8e4e_11eb_8dee_b942fc27f0e0level0_row41\" class=\"row_heading level0 row41\" >41</th>\n",
       "                        <td id=\"T_c5346356_8e4e_11eb_8dee_b942fc27f0e0row41_col0\" class=\"data row41 col0\" >25%_DELAY</td>\n",
       "                        <td id=\"T_c5346356_8e4e_11eb_8dee_b942fc27f0e0row41_col1\" class=\"data row41 col1\" >-0.013199</td>\n",
       "            </tr>\n",
       "            <tr>\n",
       "                        <th id=\"T_c5346356_8e4e_11eb_8dee_b942fc27f0e0level0_row42\" class=\"row_heading level0 row42\" >42</th>\n",
       "                        <td id=\"T_c5346356_8e4e_11eb_8dee_b942fc27f0e0row42_col0\" class=\"data row42 col0\" >50%_DELAY</td>\n",
       "                        <td id=\"T_c5346356_8e4e_11eb_8dee_b942fc27f0e0row42_col1\" class=\"data row42 col1\" >-0.001183</td>\n",
       "            </tr>\n",
       "            <tr>\n",
       "                        <th id=\"T_c5346356_8e4e_11eb_8dee_b942fc27f0e0level0_row43\" class=\"row_heading level0 row43\" >43</th>\n",
       "                        <td id=\"T_c5346356_8e4e_11eb_8dee_b942fc27f0e0row43_col0\" class=\"data row43 col0\" >75%_DELAY</td>\n",
       "                        <td id=\"T_c5346356_8e4e_11eb_8dee_b942fc27f0e0row43_col1\" class=\"data row43 col1\" >-0.035679</td>\n",
       "            </tr>\n",
       "            <tr>\n",
       "                        <th id=\"T_c5346356_8e4e_11eb_8dee_b942fc27f0e0level0_row44\" class=\"row_heading level0 row44\" >44</th>\n",
       "                        <td id=\"T_c5346356_8e4e_11eb_8dee_b942fc27f0e0row44_col0\" class=\"data row44 col0\" >MAX_DELAY</td>\n",
       "                        <td id=\"T_c5346356_8e4e_11eb_8dee_b942fc27f0e0row44_col1\" class=\"data row44 col1\" >0.003914</td>\n",
       "            </tr>\n",
       "            <tr>\n",
       "                        <th id=\"T_c5346356_8e4e_11eb_8dee_b942fc27f0e0level0_row45\" class=\"row_heading level0 row45\" >45</th>\n",
       "                        <td id=\"T_c5346356_8e4e_11eb_8dee_b942fc27f0e0row45_col0\" class=\"data row45 col0\" >WEEKEND</td>\n",
       "                        <td id=\"T_c5346356_8e4e_11eb_8dee_b942fc27f0e0row45_col1\" class=\"data row45 col1\" >-0.017241</td>\n",
       "            </tr>\n",
       "            <tr>\n",
       "                        <th id=\"T_c5346356_8e4e_11eb_8dee_b942fc27f0e0level0_row46\" class=\"row_heading level0 row46\" >46</th>\n",
       "                        <td id=\"T_c5346356_8e4e_11eb_8dee_b942fc27f0e0row46_col0\" class=\"data row46 col0\" >LATE_AIRLINE_INDEX</td>\n",
       "                        <td id=\"T_c5346356_8e4e_11eb_8dee_b942fc27f0e0row46_col1\" class=\"data row46 col1\" >0.161910</td>\n",
       "            </tr>\n",
       "            <tr>\n",
       "                        <th id=\"T_c5346356_8e4e_11eb_8dee_b942fc27f0e0level0_row47\" class=\"row_heading level0 row47\" >47</th>\n",
       "                        <td id=\"T_c5346356_8e4e_11eb_8dee_b942fc27f0e0row47_col0\" class=\"data row47 col0\" >LATE_TAIL_INDEX</td>\n",
       "                        <td id=\"T_c5346356_8e4e_11eb_8dee_b942fc27f0e0row47_col1\" class=\"data row47 col1\" >0.151298</td>\n",
       "            </tr>\n",
       "            <tr>\n",
       "                        <th id=\"T_c5346356_8e4e_11eb_8dee_b942fc27f0e0level0_row48\" class=\"row_heading level0 row48\" >48</th>\n",
       "                        <td id=\"T_c5346356_8e4e_11eb_8dee_b942fc27f0e0row48_col0\" class=\"data row48 col0\" >LATE_ARR</td>\n",
       "                        <td id=\"T_c5346356_8e4e_11eb_8dee_b942fc27f0e0row48_col1\" class=\"data row48 col1\" >0.829777</td>\n",
       "            </tr>\n",
       "            <tr>\n",
       "                        <th id=\"T_c5346356_8e4e_11eb_8dee_b942fc27f0e0level0_row49\" class=\"row_heading level0 row49\" >49</th>\n",
       "                        <td id=\"T_c5346356_8e4e_11eb_8dee_b942fc27f0e0row49_col0\" class=\"data row49 col0\" >LATE_DEP_1</td>\n",
       "                        <td id=\"T_c5346356_8e4e_11eb_8dee_b942fc27f0e0row49_col1\" class=\"data row49 col1\" >0.162629</td>\n",
       "            </tr>\n",
       "            <tr>\n",
       "                        <th id=\"T_c5346356_8e4e_11eb_8dee_b942fc27f0e0level0_row50\" class=\"row_heading level0 row50\" >50</th>\n",
       "                        <td id=\"T_c5346356_8e4e_11eb_8dee_b942fc27f0e0row50_col0\" class=\"data row50 col0\" >LATE_DEP_2</td>\n",
       "                        <td id=\"T_c5346356_8e4e_11eb_8dee_b942fc27f0e0row50_col1\" class=\"data row50 col1\" >0.155861</td>\n",
       "            </tr>\n",
       "            <tr>\n",
       "                        <th id=\"T_c5346356_8e4e_11eb_8dee_b942fc27f0e0level0_row51\" class=\"row_heading level0 row51\" >51</th>\n",
       "                        <td id=\"T_c5346356_8e4e_11eb_8dee_b942fc27f0e0row51_col0\" class=\"data row51 col0\" >LATE_DEP_3</td>\n",
       "                        <td id=\"T_c5346356_8e4e_11eb_8dee_b942fc27f0e0row51_col1\" class=\"data row51 col1\" >0.150206</td>\n",
       "            </tr>\n",
       "            <tr>\n",
       "                        <th id=\"T_c5346356_8e4e_11eb_8dee_b942fc27f0e0level0_row52\" class=\"row_heading level0 row52\" >52</th>\n",
       "                        <td id=\"T_c5346356_8e4e_11eb_8dee_b942fc27f0e0row52_col0\" class=\"data row52 col0\" >LATE_DEP_4</td>\n",
       "                        <td id=\"T_c5346356_8e4e_11eb_8dee_b942fc27f0e0row52_col1\" class=\"data row52 col1\" >0.141320</td>\n",
       "            </tr>\n",
       "    </tbody></table>"
      ],
      "text/plain": [
       "<pandas.io.formats.style.Styler at 0x7fc2bcf28490>"
      ]
     },
     "execution_count": 23,
     "metadata": {},
     "output_type": "execute_result"
    }
   ],
   "source": [
    "logit_feature = pd.DataFrame({\"features\": flights.drop(['DEP_DELAY', 'target', 'DEP_DELAY_GROUP'], axis=1).columns})\n",
    "tmp = pd.DataFrame({'col': logit.coef_[0]})\n",
    "logit_feature = pd.concat([logit_feature, tmp], axis=1)\n",
    "logit_feature.style.background_gradient()"
   ]
  },
  {
   "cell_type": "code",
   "execution_count": 24,
   "metadata": {
    "scrolled": true
   },
   "outputs": [
    {
     "name": "stdout",
     "output_type": "stream",
     "text": [
      "[19:18:17] WARNING: ../src/learner.cc:1061: Starting in XGBoost 1.3.0, the default evaluation metric used with the objective 'binary:logistic' was changed from 'error' to 'logloss'. Explicitly set eval_metric if you'd like to restore the old behavior.\n",
      "              precision    recall  f1-score   support\n",
      "\n",
      "           0       0.88      0.96      0.92    613014\n",
      "           1       0.71      0.45      0.55    144914\n",
      "\n",
      "    accuracy                           0.86    757928\n",
      "   macro avg       0.80      0.70      0.74    757928\n",
      "weighted avg       0.85      0.86      0.85    757928\n",
      "\n",
      "CPU times: user 1h 6min 12s, sys: 25 s, total: 1h 6min 37s\n",
      "Wall time: 11min 42s\n"
     ]
    }
   ],
   "source": [
    "%%time\n",
    "grad = fit_model(XGBClassifier(random_state=42, n_jobs=6, use_label_encoder=False),\n",
    "                 flights.drop(['DEP_DELAY', 'target', 'DEP_DELAY_GROUP'], axis=1),\n",
    "                 flights.target)"
   ]
  },
  {
   "cell_type": "code",
   "execution_count": 25,
   "metadata": {
    "scrolled": true
   },
   "outputs": [
    {
     "data": {
      "text/html": [
       "<style  type=\"text/css\" >\n",
       "#T_7215ddd8_8e50_11eb_8dee_b942fc27f0e0row0_col1,#T_7215ddd8_8e50_11eb_8dee_b942fc27f0e0row12_col1,#T_7215ddd8_8e50_11eb_8dee_b942fc27f0e0row25_col1,#T_7215ddd8_8e50_11eb_8dee_b942fc27f0e0row47_col1{\n",
       "            background-color:  #fcf4fa;\n",
       "            color:  #000000;\n",
       "        }#T_7215ddd8_8e50_11eb_8dee_b942fc27f0e0row1_col1,#T_7215ddd8_8e50_11eb_8dee_b942fc27f0e0row2_col1,#T_7215ddd8_8e50_11eb_8dee_b942fc27f0e0row7_col1,#T_7215ddd8_8e50_11eb_8dee_b942fc27f0e0row8_col1,#T_7215ddd8_8e50_11eb_8dee_b942fc27f0e0row17_col1,#T_7215ddd8_8e50_11eb_8dee_b942fc27f0e0row19_col1,#T_7215ddd8_8e50_11eb_8dee_b942fc27f0e0row21_col1,#T_7215ddd8_8e50_11eb_8dee_b942fc27f0e0row27_col1,#T_7215ddd8_8e50_11eb_8dee_b942fc27f0e0row28_col1,#T_7215ddd8_8e50_11eb_8dee_b942fc27f0e0row32_col1,#T_7215ddd8_8e50_11eb_8dee_b942fc27f0e0row33_col1,#T_7215ddd8_8e50_11eb_8dee_b942fc27f0e0row36_col1,#T_7215ddd8_8e50_11eb_8dee_b942fc27f0e0row41_col1{\n",
       "            background-color:  #fdf5fa;\n",
       "            color:  #000000;\n",
       "        }#T_7215ddd8_8e50_11eb_8dee_b942fc27f0e0row3_col1,#T_7215ddd8_8e50_11eb_8dee_b942fc27f0e0row46_col1{\n",
       "            background-color:  #faf3f9;\n",
       "            color:  #000000;\n",
       "        }#T_7215ddd8_8e50_11eb_8dee_b942fc27f0e0row4_col1,#T_7215ddd8_8e50_11eb_8dee_b942fc27f0e0row15_col1,#T_7215ddd8_8e50_11eb_8dee_b942fc27f0e0row35_col1,#T_7215ddd8_8e50_11eb_8dee_b942fc27f0e0row39_col1,#T_7215ddd8_8e50_11eb_8dee_b942fc27f0e0row43_col1,#T_7215ddd8_8e50_11eb_8dee_b942fc27f0e0row44_col1,#T_7215ddd8_8e50_11eb_8dee_b942fc27f0e0row45_col1{\n",
       "            background-color:  #fff7fb;\n",
       "            color:  #000000;\n",
       "        }#T_7215ddd8_8e50_11eb_8dee_b942fc27f0e0row5_col1,#T_7215ddd8_8e50_11eb_8dee_b942fc27f0e0row6_col1,#T_7215ddd8_8e50_11eb_8dee_b942fc27f0e0row9_col1,#T_7215ddd8_8e50_11eb_8dee_b942fc27f0e0row16_col1,#T_7215ddd8_8e50_11eb_8dee_b942fc27f0e0row18_col1,#T_7215ddd8_8e50_11eb_8dee_b942fc27f0e0row20_col1,#T_7215ddd8_8e50_11eb_8dee_b942fc27f0e0row26_col1,#T_7215ddd8_8e50_11eb_8dee_b942fc27f0e0row29_col1,#T_7215ddd8_8e50_11eb_8dee_b942fc27f0e0row38_col1,#T_7215ddd8_8e50_11eb_8dee_b942fc27f0e0row40_col1{\n",
       "            background-color:  #fef6fa;\n",
       "            color:  #000000;\n",
       "        }#T_7215ddd8_8e50_11eb_8dee_b942fc27f0e0row10_col1,#T_7215ddd8_8e50_11eb_8dee_b942fc27f0e0row51_col1{\n",
       "            background-color:  #e0dded;\n",
       "            color:  #000000;\n",
       "        }#T_7215ddd8_8e50_11eb_8dee_b942fc27f0e0row11_col1{\n",
       "            background-color:  #fbf4f9;\n",
       "            color:  #000000;\n",
       "        }#T_7215ddd8_8e50_11eb_8dee_b942fc27f0e0row13_col1{\n",
       "            background-color:  #549cc7;\n",
       "            color:  #000000;\n",
       "        }#T_7215ddd8_8e50_11eb_8dee_b942fc27f0e0row14_col1{\n",
       "            background-color:  #f2ecf5;\n",
       "            color:  #000000;\n",
       "        }#T_7215ddd8_8e50_11eb_8dee_b942fc27f0e0row22_col1,#T_7215ddd8_8e50_11eb_8dee_b942fc27f0e0row23_col1,#T_7215ddd8_8e50_11eb_8dee_b942fc27f0e0row24_col1,#T_7215ddd8_8e50_11eb_8dee_b942fc27f0e0row30_col1,#T_7215ddd8_8e50_11eb_8dee_b942fc27f0e0row31_col1,#T_7215ddd8_8e50_11eb_8dee_b942fc27f0e0row34_col1,#T_7215ddd8_8e50_11eb_8dee_b942fc27f0e0row42_col1{\n",
       "            background-color:  #fef6fb;\n",
       "            color:  #000000;\n",
       "        }#T_7215ddd8_8e50_11eb_8dee_b942fc27f0e0row37_col1{\n",
       "            background-color:  #f7f0f7;\n",
       "            color:  #000000;\n",
       "        }#T_7215ddd8_8e50_11eb_8dee_b942fc27f0e0row48_col1{\n",
       "            background-color:  #023858;\n",
       "            color:  #f1f1f1;\n",
       "        }#T_7215ddd8_8e50_11eb_8dee_b942fc27f0e0row49_col1{\n",
       "            background-color:  #d0d1e6;\n",
       "            color:  #000000;\n",
       "        }#T_7215ddd8_8e50_11eb_8dee_b942fc27f0e0row50_col1{\n",
       "            background-color:  #e1dfed;\n",
       "            color:  #000000;\n",
       "        }#T_7215ddd8_8e50_11eb_8dee_b942fc27f0e0row52_col1{\n",
       "            background-color:  #dcdaeb;\n",
       "            color:  #000000;\n",
       "        }</style><table id=\"T_7215ddd8_8e50_11eb_8dee_b942fc27f0e0\" ><thead>    <tr>        <th class=\"blank level0\" ></th>        <th class=\"col_heading level0 col0\" >features</th>        <th class=\"col_heading level0 col1\" >col</th>    </tr></thead><tbody>\n",
       "                <tr>\n",
       "                        <th id=\"T_7215ddd8_8e50_11eb_8dee_b942fc27f0e0level0_row0\" class=\"row_heading level0 row0\" >0</th>\n",
       "                        <td id=\"T_7215ddd8_8e50_11eb_8dee_b942fc27f0e0row0_col0\" class=\"data row0 col0\" >MONTH</td>\n",
       "                        <td id=\"T_7215ddd8_8e50_11eb_8dee_b942fc27f0e0row0_col1\" class=\"data row0 col1\" >0.006819</td>\n",
       "            </tr>\n",
       "            <tr>\n",
       "                        <th id=\"T_7215ddd8_8e50_11eb_8dee_b942fc27f0e0level0_row1\" class=\"row_heading level0 row1\" >1</th>\n",
       "                        <td id=\"T_7215ddd8_8e50_11eb_8dee_b942fc27f0e0row1_col0\" class=\"data row1 col0\" >DAY</td>\n",
       "                        <td id=\"T_7215ddd8_8e50_11eb_8dee_b942fc27f0e0row1_col1\" class=\"data row1 col1\" >0.003737</td>\n",
       "            </tr>\n",
       "            <tr>\n",
       "                        <th id=\"T_7215ddd8_8e50_11eb_8dee_b942fc27f0e0level0_row2\" class=\"row_heading level0 row2\" >2</th>\n",
       "                        <td id=\"T_7215ddd8_8e50_11eb_8dee_b942fc27f0e0row2_col0\" class=\"data row2 col0\" >DAY_OF_WEEK</td>\n",
       "                        <td id=\"T_7215ddd8_8e50_11eb_8dee_b942fc27f0e0row2_col1\" class=\"data row2 col1\" >0.003659</td>\n",
       "            </tr>\n",
       "            <tr>\n",
       "                        <th id=\"T_7215ddd8_8e50_11eb_8dee_b942fc27f0e0level0_row3\" class=\"row_heading level0 row3\" >3</th>\n",
       "                        <td id=\"T_7215ddd8_8e50_11eb_8dee_b942fc27f0e0row3_col0\" class=\"data row3 col0\" >AIRLINE</td>\n",
       "                        <td id=\"T_7215ddd8_8e50_11eb_8dee_b942fc27f0e0row3_col1\" class=\"data row3 col1\" >0.009994</td>\n",
       "            </tr>\n",
       "            <tr>\n",
       "                        <th id=\"T_7215ddd8_8e50_11eb_8dee_b942fc27f0e0level0_row4\" class=\"row_heading level0 row4\" >4</th>\n",
       "                        <td id=\"T_7215ddd8_8e50_11eb_8dee_b942fc27f0e0row4_col0\" class=\"data row4 col0\" >TAIL_NUM</td>\n",
       "                        <td id=\"T_7215ddd8_8e50_11eb_8dee_b942fc27f0e0row4_col1\" class=\"data row4 col1\" >0.000794</td>\n",
       "            </tr>\n",
       "            <tr>\n",
       "                        <th id=\"T_7215ddd8_8e50_11eb_8dee_b942fc27f0e0level0_row5\" class=\"row_heading level0 row5\" >5</th>\n",
       "                        <td id=\"T_7215ddd8_8e50_11eb_8dee_b942fc27f0e0row5_col0\" class=\"data row5 col0\" >FLIGHT_MUNBER</td>\n",
       "                        <td id=\"T_7215ddd8_8e50_11eb_8dee_b942fc27f0e0row5_col1\" class=\"data row5 col1\" >0.003108</td>\n",
       "            </tr>\n",
       "            <tr>\n",
       "                        <th id=\"T_7215ddd8_8e50_11eb_8dee_b942fc27f0e0level0_row6\" class=\"row_heading level0 row6\" >6</th>\n",
       "                        <td id=\"T_7215ddd8_8e50_11eb_8dee_b942fc27f0e0row6_col0\" class=\"data row6 col0\" >ORIGIN</td>\n",
       "                        <td id=\"T_7215ddd8_8e50_11eb_8dee_b942fc27f0e0row6_col1\" class=\"data row6 col1\" >0.003550</td>\n",
       "            </tr>\n",
       "            <tr>\n",
       "                        <th id=\"T_7215ddd8_8e50_11eb_8dee_b942fc27f0e0level0_row7\" class=\"row_heading level0 row7\" >7</th>\n",
       "                        <td id=\"T_7215ddd8_8e50_11eb_8dee_b942fc27f0e0row7_col0\" class=\"data row7 col0\" >ORIGIN_CITY_NAME</td>\n",
       "                        <td id=\"T_7215ddd8_8e50_11eb_8dee_b942fc27f0e0row7_col1\" class=\"data row7 col1\" >0.003863</td>\n",
       "            </tr>\n",
       "            <tr>\n",
       "                        <th id=\"T_7215ddd8_8e50_11eb_8dee_b942fc27f0e0level0_row8\" class=\"row_heading level0 row8\" >8</th>\n",
       "                        <td id=\"T_7215ddd8_8e50_11eb_8dee_b942fc27f0e0row8_col0\" class=\"data row8 col0\" >DEST</td>\n",
       "                        <td id=\"T_7215ddd8_8e50_11eb_8dee_b942fc27f0e0row8_col1\" class=\"data row8 col1\" >0.005299</td>\n",
       "            </tr>\n",
       "            <tr>\n",
       "                        <th id=\"T_7215ddd8_8e50_11eb_8dee_b942fc27f0e0level0_row9\" class=\"row_heading level0 row9\" >9</th>\n",
       "                        <td id=\"T_7215ddd8_8e50_11eb_8dee_b942fc27f0e0row9_col0\" class=\"data row9 col0\" >DEST_CITY_NAME</td>\n",
       "                        <td id=\"T_7215ddd8_8e50_11eb_8dee_b942fc27f0e0row9_col1\" class=\"data row9 col1\" >0.003095</td>\n",
       "            </tr>\n",
       "            <tr>\n",
       "                        <th id=\"T_7215ddd8_8e50_11eb_8dee_b942fc27f0e0level0_row10\" class=\"row_heading level0 row10\" >10</th>\n",
       "                        <td id=\"T_7215ddd8_8e50_11eb_8dee_b942fc27f0e0row10_col0\" class=\"data row10 col0\" >CRS_DEP_TIME</td>\n",
       "                        <td id=\"T_7215ddd8_8e50_11eb_8dee_b942fc27f0e0row10_col1\" class=\"data row10 col1\" >0.056853</td>\n",
       "            </tr>\n",
       "            <tr>\n",
       "                        <th id=\"T_7215ddd8_8e50_11eb_8dee_b942fc27f0e0level0_row11\" class=\"row_heading level0 row11\" >11</th>\n",
       "                        <td id=\"T_7215ddd8_8e50_11eb_8dee_b942fc27f0e0row11_col0\" class=\"data row11 col0\" >CRS_ARR_TIME</td>\n",
       "                        <td id=\"T_7215ddd8_8e50_11eb_8dee_b942fc27f0e0row11_col1\" class=\"data row11 col1\" >0.007619</td>\n",
       "            </tr>\n",
       "            <tr>\n",
       "                        <th id=\"T_7215ddd8_8e50_11eb_8dee_b942fc27f0e0level0_row12\" class=\"row_heading level0 row12\" >12</th>\n",
       "                        <td id=\"T_7215ddd8_8e50_11eb_8dee_b942fc27f0e0row12_col0\" class=\"data row12 col0\" >DISTANCE</td>\n",
       "                        <td id=\"T_7215ddd8_8e50_11eb_8dee_b942fc27f0e0row12_col1\" class=\"data row12 col1\" >0.006613</td>\n",
       "            </tr>\n",
       "            <tr>\n",
       "                        <th id=\"T_7215ddd8_8e50_11eb_8dee_b942fc27f0e0level0_row13\" class=\"row_heading level0 row13\" >13</th>\n",
       "                        <td id=\"T_7215ddd8_8e50_11eb_8dee_b942fc27f0e0row13_col0\" class=\"data row13 col0\" >FIRST_DEP_TIME</td>\n",
       "                        <td id=\"T_7215ddd8_8e50_11eb_8dee_b942fc27f0e0row13_col1\" class=\"data row13 col1\" >0.175714</td>\n",
       "            </tr>\n",
       "            <tr>\n",
       "                        <th id=\"T_7215ddd8_8e50_11eb_8dee_b942fc27f0e0level0_row14\" class=\"row_heading level0 row14\" >14</th>\n",
       "                        <td id=\"T_7215ddd8_8e50_11eb_8dee_b942fc27f0e0row14_col0\" class=\"data row14 col0\" >TOTAL_ADD_GTIME</td>\n",
       "                        <td id=\"T_7215ddd8_8e50_11eb_8dee_b942fc27f0e0row14_col1\" class=\"data row14 col1\" >0.027367</td>\n",
       "            </tr>\n",
       "            <tr>\n",
       "                        <th id=\"T_7215ddd8_8e50_11eb_8dee_b942fc27f0e0level0_row15\" class=\"row_heading level0 row15\" >15</th>\n",
       "                        <td id=\"T_7215ddd8_8e50_11eb_8dee_b942fc27f0e0row15_col0\" class=\"data row15 col0\" >LONGEST_ADD_GTIME</td>\n",
       "                        <td id=\"T_7215ddd8_8e50_11eb_8dee_b942fc27f0e0row15_col1\" class=\"data row15 col1\" >0.000000</td>\n",
       "            </tr>\n",
       "            <tr>\n",
       "                        <th id=\"T_7215ddd8_8e50_11eb_8dee_b942fc27f0e0level0_row16\" class=\"row_heading level0 row16\" >16</th>\n",
       "                        <td id=\"T_7215ddd8_8e50_11eb_8dee_b942fc27f0e0row16_col0\" class=\"data row16 col0\" >maxtempC</td>\n",
       "                        <td id=\"T_7215ddd8_8e50_11eb_8dee_b942fc27f0e0row16_col1\" class=\"data row16 col1\" >0.003286</td>\n",
       "            </tr>\n",
       "            <tr>\n",
       "                        <th id=\"T_7215ddd8_8e50_11eb_8dee_b942fc27f0e0level0_row17\" class=\"row_heading level0 row17\" >17</th>\n",
       "                        <td id=\"T_7215ddd8_8e50_11eb_8dee_b942fc27f0e0row17_col0\" class=\"data row17 col0\" >mintempC</td>\n",
       "                        <td id=\"T_7215ddd8_8e50_11eb_8dee_b942fc27f0e0row17_col1\" class=\"data row17 col1\" >0.003804</td>\n",
       "            </tr>\n",
       "            <tr>\n",
       "                        <th id=\"T_7215ddd8_8e50_11eb_8dee_b942fc27f0e0level0_row18\" class=\"row_heading level0 row18\" >18</th>\n",
       "                        <td id=\"T_7215ddd8_8e50_11eb_8dee_b942fc27f0e0row18_col0\" class=\"data row18 col0\" >totalSnow_cm</td>\n",
       "                        <td id=\"T_7215ddd8_8e50_11eb_8dee_b942fc27f0e0row18_col1\" class=\"data row18 col1\" >0.003433</td>\n",
       "            </tr>\n",
       "            <tr>\n",
       "                        <th id=\"T_7215ddd8_8e50_11eb_8dee_b942fc27f0e0level0_row19\" class=\"row_heading level0 row19\" >19</th>\n",
       "                        <td id=\"T_7215ddd8_8e50_11eb_8dee_b942fc27f0e0row19_col0\" class=\"data row19 col0\" >sunHour</td>\n",
       "                        <td id=\"T_7215ddd8_8e50_11eb_8dee_b942fc27f0e0row19_col1\" class=\"data row19 col1\" >0.003833</td>\n",
       "            </tr>\n",
       "            <tr>\n",
       "                        <th id=\"T_7215ddd8_8e50_11eb_8dee_b942fc27f0e0level0_row20\" class=\"row_heading level0 row20\" >20</th>\n",
       "                        <td id=\"T_7215ddd8_8e50_11eb_8dee_b942fc27f0e0row20_col0\" class=\"data row20 col0\" >uvIndex</td>\n",
       "                        <td id=\"T_7215ddd8_8e50_11eb_8dee_b942fc27f0e0row20_col1\" class=\"data row20 col1\" >0.002682</td>\n",
       "            </tr>\n",
       "            <tr>\n",
       "                        <th id=\"T_7215ddd8_8e50_11eb_8dee_b942fc27f0e0level0_row21\" class=\"row_heading level0 row21\" >21</th>\n",
       "                        <td id=\"T_7215ddd8_8e50_11eb_8dee_b942fc27f0e0row21_col0\" class=\"data row21 col0\" >moon_illumination</td>\n",
       "                        <td id=\"T_7215ddd8_8e50_11eb_8dee_b942fc27f0e0row21_col1\" class=\"data row21 col1\" >0.003796</td>\n",
       "            </tr>\n",
       "            <tr>\n",
       "                        <th id=\"T_7215ddd8_8e50_11eb_8dee_b942fc27f0e0level0_row22\" class=\"row_heading level0 row22\" >22</th>\n",
       "                        <td id=\"T_7215ddd8_8e50_11eb_8dee_b942fc27f0e0row22_col0\" class=\"data row22 col0\" >tempC</td>\n",
       "                        <td id=\"T_7215ddd8_8e50_11eb_8dee_b942fc27f0e0row22_col1\" class=\"data row22 col1\" >0.001691</td>\n",
       "            </tr>\n",
       "            <tr>\n",
       "                        <th id=\"T_7215ddd8_8e50_11eb_8dee_b942fc27f0e0level0_row23\" class=\"row_heading level0 row23\" >23</th>\n",
       "                        <td id=\"T_7215ddd8_8e50_11eb_8dee_b942fc27f0e0row23_col0\" class=\"data row23 col0\" >windspeedKmph</td>\n",
       "                        <td id=\"T_7215ddd8_8e50_11eb_8dee_b942fc27f0e0row23_col1\" class=\"data row23 col1\" >0.001632</td>\n",
       "            </tr>\n",
       "            <tr>\n",
       "                        <th id=\"T_7215ddd8_8e50_11eb_8dee_b942fc27f0e0level0_row24\" class=\"row_heading level0 row24\" >24</th>\n",
       "                        <td id=\"T_7215ddd8_8e50_11eb_8dee_b942fc27f0e0row24_col0\" class=\"data row24 col0\" >winddirDegree</td>\n",
       "                        <td id=\"T_7215ddd8_8e50_11eb_8dee_b942fc27f0e0row24_col1\" class=\"data row24 col1\" >0.001403</td>\n",
       "            </tr>\n",
       "            <tr>\n",
       "                        <th id=\"T_7215ddd8_8e50_11eb_8dee_b942fc27f0e0level0_row25\" class=\"row_heading level0 row25\" >25</th>\n",
       "                        <td id=\"T_7215ddd8_8e50_11eb_8dee_b942fc27f0e0row25_col0\" class=\"data row25 col0\" >weatherCode_origin</td>\n",
       "                        <td id=\"T_7215ddd8_8e50_11eb_8dee_b942fc27f0e0row25_col1\" class=\"data row25 col1\" >0.006433</td>\n",
       "            </tr>\n",
       "            <tr>\n",
       "                        <th id=\"T_7215ddd8_8e50_11eb_8dee_b942fc27f0e0level0_row26\" class=\"row_heading level0 row26\" >26</th>\n",
       "                        <td id=\"T_7215ddd8_8e50_11eb_8dee_b942fc27f0e0row26_col0\" class=\"data row26 col0\" >precipMM</td>\n",
       "                        <td id=\"T_7215ddd8_8e50_11eb_8dee_b942fc27f0e0row26_col1\" class=\"data row26 col1\" >0.003563</td>\n",
       "            </tr>\n",
       "            <tr>\n",
       "                        <th id=\"T_7215ddd8_8e50_11eb_8dee_b942fc27f0e0level0_row27\" class=\"row_heading level0 row27\" >27</th>\n",
       "                        <td id=\"T_7215ddd8_8e50_11eb_8dee_b942fc27f0e0row27_col0\" class=\"data row27 col0\" >humidity</td>\n",
       "                        <td id=\"T_7215ddd8_8e50_11eb_8dee_b942fc27f0e0row27_col1\" class=\"data row27 col1\" >0.005218</td>\n",
       "            </tr>\n",
       "            <tr>\n",
       "                        <th id=\"T_7215ddd8_8e50_11eb_8dee_b942fc27f0e0level0_row28\" class=\"row_heading level0 row28\" >28</th>\n",
       "                        <td id=\"T_7215ddd8_8e50_11eb_8dee_b942fc27f0e0row28_col0\" class=\"data row28 col0\" >visibility</td>\n",
       "                        <td id=\"T_7215ddd8_8e50_11eb_8dee_b942fc27f0e0row28_col1\" class=\"data row28 col1\" >0.005679</td>\n",
       "            </tr>\n",
       "            <tr>\n",
       "                        <th id=\"T_7215ddd8_8e50_11eb_8dee_b942fc27f0e0level0_row29\" class=\"row_heading level0 row29\" >29</th>\n",
       "                        <td id=\"T_7215ddd8_8e50_11eb_8dee_b942fc27f0e0row29_col0\" class=\"data row29 col0\" >pressure</td>\n",
       "                        <td id=\"T_7215ddd8_8e50_11eb_8dee_b942fc27f0e0row29_col1\" class=\"data row29 col1\" >0.002498</td>\n",
       "            </tr>\n",
       "            <tr>\n",
       "                        <th id=\"T_7215ddd8_8e50_11eb_8dee_b942fc27f0e0level0_row30\" class=\"row_heading level0 row30\" >30</th>\n",
       "                        <td id=\"T_7215ddd8_8e50_11eb_8dee_b942fc27f0e0row30_col0\" class=\"data row30 col0\" >cloudcover</td>\n",
       "                        <td id=\"T_7215ddd8_8e50_11eb_8dee_b942fc27f0e0row30_col1\" class=\"data row30 col1\" >0.001984</td>\n",
       "            </tr>\n",
       "            <tr>\n",
       "                        <th id=\"T_7215ddd8_8e50_11eb_8dee_b942fc27f0e0level0_row31\" class=\"row_heading level0 row31\" >31</th>\n",
       "                        <td id=\"T_7215ddd8_8e50_11eb_8dee_b942fc27f0e0row31_col0\" class=\"data row31 col0\" >HeatIndexC</td>\n",
       "                        <td id=\"T_7215ddd8_8e50_11eb_8dee_b942fc27f0e0row31_col1\" class=\"data row31 col1\" >0.002377</td>\n",
       "            </tr>\n",
       "            <tr>\n",
       "                        <th id=\"T_7215ddd8_8e50_11eb_8dee_b942fc27f0e0level0_row32\" class=\"row_heading level0 row32\" >32</th>\n",
       "                        <td id=\"T_7215ddd8_8e50_11eb_8dee_b942fc27f0e0row32_col0\" class=\"data row32 col0\" >DewPointC</td>\n",
       "                        <td id=\"T_7215ddd8_8e50_11eb_8dee_b942fc27f0e0row32_col1\" class=\"data row32 col1\" >0.004914</td>\n",
       "            </tr>\n",
       "            <tr>\n",
       "                        <th id=\"T_7215ddd8_8e50_11eb_8dee_b942fc27f0e0level0_row33\" class=\"row_heading level0 row33\" >33</th>\n",
       "                        <td id=\"T_7215ddd8_8e50_11eb_8dee_b942fc27f0e0row33_col0\" class=\"data row33 col0\" >WindChillC</td>\n",
       "                        <td id=\"T_7215ddd8_8e50_11eb_8dee_b942fc27f0e0row33_col1\" class=\"data row33 col1\" >0.003775</td>\n",
       "            </tr>\n",
       "            <tr>\n",
       "                        <th id=\"T_7215ddd8_8e50_11eb_8dee_b942fc27f0e0level0_row34\" class=\"row_heading level0 row34\" >34</th>\n",
       "                        <td id=\"T_7215ddd8_8e50_11eb_8dee_b942fc27f0e0row34_col0\" class=\"data row34 col0\" >WindGustKmph</td>\n",
       "                        <td id=\"T_7215ddd8_8e50_11eb_8dee_b942fc27f0e0row34_col1\" class=\"data row34 col1\" >0.001449</td>\n",
       "            </tr>\n",
       "            <tr>\n",
       "                        <th id=\"T_7215ddd8_8e50_11eb_8dee_b942fc27f0e0level0_row35\" class=\"row_heading level0 row35\" >35</th>\n",
       "                        <td id=\"T_7215ddd8_8e50_11eb_8dee_b942fc27f0e0row35_col0\" class=\"data row35 col0\" >FeelsLikeC</td>\n",
       "                        <td id=\"T_7215ddd8_8e50_11eb_8dee_b942fc27f0e0row35_col1\" class=\"data row35 col1\" >0.001208</td>\n",
       "            </tr>\n",
       "            <tr>\n",
       "                        <th id=\"T_7215ddd8_8e50_11eb_8dee_b942fc27f0e0level0_row36\" class=\"row_heading level0 row36\" >36</th>\n",
       "                        <td id=\"T_7215ddd8_8e50_11eb_8dee_b942fc27f0e0row36_col0\" class=\"data row36 col0\" >weatherCode_dest</td>\n",
       "                        <td id=\"T_7215ddd8_8e50_11eb_8dee_b942fc27f0e0row36_col1\" class=\"data row36 col1\" >0.005276</td>\n",
       "            </tr>\n",
       "            <tr>\n",
       "                        <th id=\"T_7215ddd8_8e50_11eb_8dee_b942fc27f0e0level0_row37\" class=\"row_heading level0 row37\" >37</th>\n",
       "                        <td id=\"T_7215ddd8_8e50_11eb_8dee_b942fc27f0e0row37_col0\" class=\"data row37 col0\" >COUNT</td>\n",
       "                        <td id=\"T_7215ddd8_8e50_11eb_8dee_b942fc27f0e0row37_col1\" class=\"data row37 col1\" >0.017196</td>\n",
       "            </tr>\n",
       "            <tr>\n",
       "                        <th id=\"T_7215ddd8_8e50_11eb_8dee_b942fc27f0e0level0_row38\" class=\"row_heading level0 row38\" >38</th>\n",
       "                        <td id=\"T_7215ddd8_8e50_11eb_8dee_b942fc27f0e0row38_col0\" class=\"data row38 col0\" >MEAN_DELAY</td>\n",
       "                        <td id=\"T_7215ddd8_8e50_11eb_8dee_b942fc27f0e0row38_col1\" class=\"data row38 col1\" >0.003626</td>\n",
       "            </tr>\n",
       "            <tr>\n",
       "                        <th id=\"T_7215ddd8_8e50_11eb_8dee_b942fc27f0e0level0_row39\" class=\"row_heading level0 row39\" >39</th>\n",
       "                        <td id=\"T_7215ddd8_8e50_11eb_8dee_b942fc27f0e0row39_col0\" class=\"data row39 col0\" >STD_DELAY</td>\n",
       "                        <td id=\"T_7215ddd8_8e50_11eb_8dee_b942fc27f0e0row39_col1\" class=\"data row39 col1\" >0.000971</td>\n",
       "            </tr>\n",
       "            <tr>\n",
       "                        <th id=\"T_7215ddd8_8e50_11eb_8dee_b942fc27f0e0level0_row40\" class=\"row_heading level0 row40\" >40</th>\n",
       "                        <td id=\"T_7215ddd8_8e50_11eb_8dee_b942fc27f0e0row40_col0\" class=\"data row40 col0\" >MIN_DELAY</td>\n",
       "                        <td id=\"T_7215ddd8_8e50_11eb_8dee_b942fc27f0e0row40_col1\" class=\"data row40 col1\" >0.003598</td>\n",
       "            </tr>\n",
       "            <tr>\n",
       "                        <th id=\"T_7215ddd8_8e50_11eb_8dee_b942fc27f0e0level0_row41\" class=\"row_heading level0 row41\" >41</th>\n",
       "                        <td id=\"T_7215ddd8_8e50_11eb_8dee_b942fc27f0e0row41_col0\" class=\"data row41 col0\" >25%_DELAY</td>\n",
       "                        <td id=\"T_7215ddd8_8e50_11eb_8dee_b942fc27f0e0row41_col1\" class=\"data row41 col1\" >0.004350</td>\n",
       "            </tr>\n",
       "            <tr>\n",
       "                        <th id=\"T_7215ddd8_8e50_11eb_8dee_b942fc27f0e0level0_row42\" class=\"row_heading level0 row42\" >42</th>\n",
       "                        <td id=\"T_7215ddd8_8e50_11eb_8dee_b942fc27f0e0row42_col0\" class=\"data row42 col0\" >50%_DELAY</td>\n",
       "                        <td id=\"T_7215ddd8_8e50_11eb_8dee_b942fc27f0e0row42_col1\" class=\"data row42 col1\" >0.002357</td>\n",
       "            </tr>\n",
       "            <tr>\n",
       "                        <th id=\"T_7215ddd8_8e50_11eb_8dee_b942fc27f0e0level0_row43\" class=\"row_heading level0 row43\" >43</th>\n",
       "                        <td id=\"T_7215ddd8_8e50_11eb_8dee_b942fc27f0e0row43_col0\" class=\"data row43 col0\" >75%_DELAY</td>\n",
       "                        <td id=\"T_7215ddd8_8e50_11eb_8dee_b942fc27f0e0row43_col1\" class=\"data row43 col1\" >0.000985</td>\n",
       "            </tr>\n",
       "            <tr>\n",
       "                        <th id=\"T_7215ddd8_8e50_11eb_8dee_b942fc27f0e0level0_row44\" class=\"row_heading level0 row44\" >44</th>\n",
       "                        <td id=\"T_7215ddd8_8e50_11eb_8dee_b942fc27f0e0row44_col0\" class=\"data row44 col0\" >MAX_DELAY</td>\n",
       "                        <td id=\"T_7215ddd8_8e50_11eb_8dee_b942fc27f0e0row44_col1\" class=\"data row44 col1\" >0.001043</td>\n",
       "            </tr>\n",
       "            <tr>\n",
       "                        <th id=\"T_7215ddd8_8e50_11eb_8dee_b942fc27f0e0level0_row45\" class=\"row_heading level0 row45\" >45</th>\n",
       "                        <td id=\"T_7215ddd8_8e50_11eb_8dee_b942fc27f0e0row45_col0\" class=\"data row45 col0\" >WEEKEND</td>\n",
       "                        <td id=\"T_7215ddd8_8e50_11eb_8dee_b942fc27f0e0row45_col1\" class=\"data row45 col1\" >0.000000</td>\n",
       "            </tr>\n",
       "            <tr>\n",
       "                        <th id=\"T_7215ddd8_8e50_11eb_8dee_b942fc27f0e0level0_row46\" class=\"row_heading level0 row46\" >46</th>\n",
       "                        <td id=\"T_7215ddd8_8e50_11eb_8dee_b942fc27f0e0row46_col0\" class=\"data row46 col0\" >LATE_AIRLINE_INDEX</td>\n",
       "                        <td id=\"T_7215ddd8_8e50_11eb_8dee_b942fc27f0e0row46_col1\" class=\"data row46 col1\" >0.010712</td>\n",
       "            </tr>\n",
       "            <tr>\n",
       "                        <th id=\"T_7215ddd8_8e50_11eb_8dee_b942fc27f0e0level0_row47\" class=\"row_heading level0 row47\" >47</th>\n",
       "                        <td id=\"T_7215ddd8_8e50_11eb_8dee_b942fc27f0e0row47_col0\" class=\"data row47 col0\" >LATE_TAIL_INDEX</td>\n",
       "                        <td id=\"T_7215ddd8_8e50_11eb_8dee_b942fc27f0e0row47_col1\" class=\"data row47 col1\" >0.006916</td>\n",
       "            </tr>\n",
       "            <tr>\n",
       "                        <th id=\"T_7215ddd8_8e50_11eb_8dee_b942fc27f0e0level0_row48\" class=\"row_heading level0 row48\" >48</th>\n",
       "                        <td id=\"T_7215ddd8_8e50_11eb_8dee_b942fc27f0e0row48_col0\" class=\"data row48 col0\" >LATE_ARR</td>\n",
       "                        <td id=\"T_7215ddd8_8e50_11eb_8dee_b942fc27f0e0row48_col1\" class=\"data row48 col1\" >0.310668</td>\n",
       "            </tr>\n",
       "            <tr>\n",
       "                        <th id=\"T_7215ddd8_8e50_11eb_8dee_b942fc27f0e0level0_row49\" class=\"row_heading level0 row49\" >49</th>\n",
       "                        <td id=\"T_7215ddd8_8e50_11eb_8dee_b942fc27f0e0row49_col0\" class=\"data row49 col0\" >LATE_DEP_1</td>\n",
       "                        <td id=\"T_7215ddd8_8e50_11eb_8dee_b942fc27f0e0row49_col1\" class=\"data row49 col1\" >0.078859</td>\n",
       "            </tr>\n",
       "            <tr>\n",
       "                        <th id=\"T_7215ddd8_8e50_11eb_8dee_b942fc27f0e0level0_row50\" class=\"row_heading level0 row50\" >50</th>\n",
       "                        <td id=\"T_7215ddd8_8e50_11eb_8dee_b942fc27f0e0row50_col0\" class=\"data row50 col0\" >LATE_DEP_2</td>\n",
       "                        <td id=\"T_7215ddd8_8e50_11eb_8dee_b942fc27f0e0row50_col1\" class=\"data row50 col1\" >0.053668</td>\n",
       "            </tr>\n",
       "            <tr>\n",
       "                        <th id=\"T_7215ddd8_8e50_11eb_8dee_b942fc27f0e0level0_row51\" class=\"row_heading level0 row51\" >51</th>\n",
       "                        <td id=\"T_7215ddd8_8e50_11eb_8dee_b942fc27f0e0row51_col0\" class=\"data row51 col0\" >LATE_DEP_3</td>\n",
       "                        <td id=\"T_7215ddd8_8e50_11eb_8dee_b942fc27f0e0row51_col1\" class=\"data row51 col1\" >0.056338</td>\n",
       "            </tr>\n",
       "            <tr>\n",
       "                        <th id=\"T_7215ddd8_8e50_11eb_8dee_b942fc27f0e0level0_row52\" class=\"row_heading level0 row52\" >52</th>\n",
       "                        <td id=\"T_7215ddd8_8e50_11eb_8dee_b942fc27f0e0row52_col0\" class=\"data row52 col0\" >LATE_DEP_4</td>\n",
       "                        <td id=\"T_7215ddd8_8e50_11eb_8dee_b942fc27f0e0row52_col1\" class=\"data row52 col1\" >0.060697</td>\n",
       "            </tr>\n",
       "    </tbody></table>"
      ],
      "text/plain": [
       "<pandas.io.formats.style.Styler at 0x7fc2bce906a0>"
      ]
     },
     "execution_count": 25,
     "metadata": {},
     "output_type": "execute_result"
    }
   ],
   "source": [
    "grad_feature = pd.DataFrame({\"features\": flights.drop(['DEP_DELAY', 'target', 'DEP_DELAY_GROUP'], axis=1).columns})\n",
    "tmp = pd.DataFrame({'col': grad.feature_importances_})\n",
    "grad_feature = pd.concat([grad_feature, tmp], axis=1)\n",
    "grad_feature.style.background_gradient()"
   ]
  },
  {
   "cell_type": "markdown",
   "metadata": {},
   "source": [
    "Наиболее важным признаком для обеих моделей оказался LATE_ARR - был ли задержан прилёт самолёта с предыдущего рейса. Данный признак действительно имеет важное значение. Однако существуют ещё много факторов, которые не содержатся в исходном наборе данных. Например, время загрузки багажа, время обслуживания самолёта, его техническое состояние, ожидание пассажиров стыковочных рейсов и прочее. Даже погодные условия не так важны. Если случается сильная метель, ураган, грозы, то рейс, скорее всего отменят или перенесут на более поздний срок. Температура, влажность, осадки, давление не является проблемой для современных самолётов"
   ]
  },
  {
   "cell_type": "code",
   "execution_count": 18,
   "metadata": {},
   "outputs": [],
   "source": [
    "X_train, X_test, y_train, y_test = train_test_split(flights.drop(['DEP_DELAY', 'target', 'DEP_DELAY_GROUP'], axis=1),\n",
    "                 flights.target, random_state=42, shuffle=True)\n",
    "X_train = scaler.fit_transform(X_train)\n",
    "X_test = scaler.transform(X_test)"
   ]
  },
  {
   "cell_type": "code",
   "execution_count": 19,
   "metadata": {},
   "outputs": [],
   "source": [
    "import keras"
   ]
  },
  {
   "cell_type": "code",
   "execution_count": 20,
   "metadata": {},
   "outputs": [
    {
     "name": "stdout",
     "output_type": "stream",
     "text": [
      "Epoch 1/10\n",
      "14212/14212 [==============================] - 36s 2ms/step - loss: 0.3787 - val_loss: 0.3665\n",
      "Epoch 2/10\n",
      "14212/14212 [==============================] - 33s 2ms/step - loss: 0.3649 - val_loss: 0.3647\n",
      "Epoch 3/10\n",
      "14212/14212 [==============================] - 34s 2ms/step - loss: 0.3616 - val_loss: 0.3638\n",
      "Epoch 4/10\n",
      "14212/14212 [==============================] - 34s 2ms/step - loss: 0.3614 - val_loss: 0.3634\n",
      "Epoch 5/10\n",
      "14212/14212 [==============================] - 32s 2ms/step - loss: 0.3601 - val_loss: 0.3625\n",
      "Epoch 6/10\n",
      "14212/14212 [==============================] - 33s 2ms/step - loss: 0.3609 - val_loss: 0.3625\n",
      "Epoch 7/10\n",
      "14212/14212 [==============================] - 34s 2ms/step - loss: 0.3598 - val_loss: 0.3622\n",
      "Epoch 8/10\n",
      "14212/14212 [==============================] - 33s 2ms/step - loss: 0.3595 - val_loss: 0.3618\n",
      "Epoch 9/10\n",
      "14212/14212 [==============================] - 32s 2ms/step - loss: 0.3596 - val_loss: 0.3620\n",
      "Epoch 10/10\n",
      "14212/14212 [==============================] - 34s 2ms/step - loss: 0.3593 - val_loss: 0.3615\n"
     ]
    }
   ],
   "source": [
    "model = Sequential()\n",
    "model.add(Dense(32, activation='relu', kernel_initializer='he_normal', input_shape=(X_train.shape[1],)))\n",
    "model.add(Dense(32, activation='relu', kernel_initializer='he_normal'))\n",
    "model.add(Dense(32, activation='relu', kernel_initializer='he_normal'))\n",
    "model.add(Dense(32, activation='relu', kernel_initializer='he_normal'))\n",
    "model.add(Dense(1,  activation='sigmoid', kernel_initializer='he_normal'))\n",
    "model.compile(optimizer=keras.optimizers.Adam(learning_rate=0.001), loss='binary_crossentropy')\n",
    "history = model.fit(X_train, y_train, epochs=10, validation_split=0.2, batch_size=128)"
   ]
  },
  {
   "cell_type": "code",
   "execution_count": 21,
   "metadata": {},
   "outputs": [
    {
     "data": {
      "image/png": "[encoded data removed]",
      "text/plain": [
       "<Figure size 432x288 with 1 Axes>"
      ]
     },
     "metadata": {
      "needs_background": "light"
     },
     "output_type": "display_data"
    }
   ],
   "source": [
    "plot_pr_curve(y_test, model.predict(X_test))"
   ]
  },
  {
   "cell_type": "code",
   "execution_count": 22,
   "metadata": {},
   "outputs": [],
   "source": [
    "p_network = model.predict(X_test)"
   ]
  },
  {
   "cell_type": "code",
   "execution_count": 23,
   "metadata": {},
   "outputs": [],
   "source": [
    "def asd(x):\n",
    "    if x > 0.28:\n",
    "        return 1\n",
    "    return 0"
   ]
  },
  {
   "cell_type": "code",
   "execution_count": 24,
   "metadata": {},
   "outputs": [],
   "source": [
    "from tqdm import tqdm"
   ]
  },
  {
   "cell_type": "code",
   "execution_count": 30,
   "metadata": {},
   "outputs": [
    {
     "name": "stderr",
     "output_type": "stream",
     "text": [
      "100%|██████████| 757928/757928 [00:02<00:00, 273461.32it/s]\n"
     ]
    },
    {
     "name": "stdout",
     "output_type": "stream",
     "text": [
      "              precision    recall  f1-score   support\n",
      "\n",
      "           0       0.90      0.90      0.90    613014\n",
      "           1       0.58      0.59      0.59    144914\n",
      "\n",
      "    accuracy                           0.84    757928\n",
      "   macro avg       0.74      0.74      0.74    757928\n",
      "weighted avg       0.84      0.84      0.84    757928\n",
      "\n"
     ]
    }
   ],
   "source": [
    "test_score = []\n",
    "for i in tqdm(range(len(y_test))):\n",
    "    test_score.append(asd(p_network[i]))\n",
    "    \n",
    "print(classification_report(y_test, test_score))"
   ]
  },
  {
   "cell_type": "markdown",
   "metadata": {},
   "source": [
    "### Классификатор с голосованием"
   ]
  },
  {
   "cell_type": "code",
   "execution_count": 31,
   "metadata": {},
   "outputs": [
    {
     "name": "stdout",
     "output_type": "stream",
     "text": [
      "[20:03:24] WARNING: ../src/learner.cc:1061: Starting in XGBoost 1.3.0, the default evaluation metric used with the objective 'binary:logistic' was changed from 'error' to 'logloss'. Explicitly set eval_metric if you'd like to restore the old behavior.\n",
      "              precision    recall  f1-score   support\n",
      "\n",
      "           0       0.88      0.96      0.92    613014\n",
      "           1       0.71      0.43      0.54    144914\n",
      "\n",
      "    accuracy                           0.86    757928\n",
      "   macro avg       0.80      0.69      0.73    757928\n",
      "weighted avg       0.85      0.86      0.84    757928\n",
      "\n",
      "CPU times: user 1h 50s, sys: 17.8 s, total: 1h 1min 8s\n",
      "Wall time: 11min 15s\n"
     ]
    }
   ],
   "source": [
    "%%time\n",
    "logit = LogisticRegression(max_iter=200)\n",
    "grad = XGBClassifier(random_state=42, n_jobs=6, use_label_encoder=False)\n",
    "vot_clf = fit_model(VotingClassifier(estimators=[('logit', logit), ('grad', grad)], voting='soft'), \n",
    "                  flights.drop(['DEP_DELAY', 'target', 'DEP_DELAY_GROUP'], axis=1),\n",
    "                  flights.target)"
   ]
  },
  {
   "cell_type": "markdown",
   "metadata": {},
   "source": [
    "Результат не превзошёл градиентный бустинг. Это обосновано тем, что оба классификатора показывают достаточно слабое качество. Поэтому нужно сосредоточится на новых признаках для повышения качества отдельных моделей, а не на ансамблеваемом обучении"
   ]
  },
  {
   "cell_type": "markdown",
   "metadata": {},
   "source": [
    "### Визуализация классификации"
   ]
  },
  {
   "cell_type": "code",
   "execution_count": 19,
   "metadata": {},
   "outputs": [],
   "source": [
    "def plot_scatter(model, X, y):\n",
    "    train_x, test_x, train_y, test_y = train_test_split(X, y, shuffle=True, random_state=42)\n",
    "    train_x = scaler.fit_transform(train_x.drop('DEP_DELAY', axis=1))\n",
    "    model.fit(train_x, train_y)\n",
    "    preds = model.predict(scaler.transform(test_x.drop('DEP_DELAY', axis=1)))\n",
    "    test_x['preds'] = preds\n",
    "    test_x['test'] = test_y\n",
    "    \n",
    "    plt.figure(figsize=(10,7))\n",
    "    sns.scatterplot(x=range(len(test_x.iloc[:150,:])), y=test_x.iloc[:150, :]['DEP_DELAY'], \n",
    "                hue=test_x.iloc[:150, :]['preds'], style=test_y[:150])\n",
    "    return model, X_test"
   ]
  },
  {
   "cell_type": "code",
   "execution_count": 20,
   "metadata": {},
   "outputs": [
    {
     "name": "stderr",
     "output_type": "stream",
     "text": [
      "<ipython-input-19-efccbb49f695>:6: SettingWithCopyWarning: \n",
      "A value is trying to be set on a copy of a slice from a DataFrame.\n",
      "Try using .loc[row_indexer,col_indexer] = value instead\n",
      "\n",
      "See the caveats in the documentation: https://pandas.pydata.org/pandas-docs/stable/user_guide/indexing.html#returning-a-view-versus-a-copy\n",
      "  test_x['preds'] = preds\n",
      "<ipython-input-19-efccbb49f695>:7: SettingWithCopyWarning: \n",
      "A value is trying to be set on a copy of a slice from a DataFrame.\n",
      "Try using .loc[row_indexer,col_indexer] = value instead\n",
      "\n",
      "See the caveats in the documentation: https://pandas.pydata.org/pandas-docs/stable/user_guide/indexing.html#returning-a-view-versus-a-copy\n",
      "  test_x['test'] = test_y\n"
     ]
    },
    {
     "name": "stdout",
     "output_type": "stream",
     "text": [
      "CPU times: user 59.2 s, sys: 10.5 s, total: 1min 9s\n",
      "Wall time: 1min 16s\n"
     ]
    },
    {
     "data": {
      "image/png": "[encoded data removed]",
      "text/plain": [
       "<Figure size 720x504 with 1 Axes>"
      ]
     },
     "metadata": {
      "needs_background": "light"
     },
     "output_type": "display_data"
    }
   ],
   "source": [
    "%%time\n",
    "logit, _ = plot_scatter(LogisticRegression(max_iter=200),\n",
    "            flights.drop(columns=['DEP_DELAY_GROUP', 'target']),\n",
    "            flights.target)"
   ]
  },
  {
   "cell_type": "code",
   "execution_count": 21,
   "metadata": {
    "scrolled": false
   },
   "outputs": [
    {
     "name": "stdout",
     "output_type": "stream",
     "text": [
      "[20:45:47] WARNING: ../src/learner.cc:1061: Starting in XGBoost 1.3.0, the default evaluation metric used with the objective 'binary:logistic' was changed from 'error' to 'logloss'. Explicitly set eval_metric if you'd like to restore the old behavior.\n"
     ]
    },
    {
     "name": "stderr",
     "output_type": "stream",
     "text": [
      "<ipython-input-19-efccbb49f695>:6: SettingWithCopyWarning: \n",
      "A value is trying to be set on a copy of a slice from a DataFrame.\n",
      "Try using .loc[row_indexer,col_indexer] = value instead\n",
      "\n",
      "See the caveats in the documentation: https://pandas.pydata.org/pandas-docs/stable/user_guide/indexing.html#returning-a-view-versus-a-copy\n",
      "  test_x['preds'] = preds\n",
      "<ipython-input-19-efccbb49f695>:7: SettingWithCopyWarning: \n",
      "A value is trying to be set on a copy of a slice from a DataFrame.\n",
      "Try using .loc[row_indexer,col_indexer] = value instead\n",
      "\n",
      "See the caveats in the documentation: https://pandas.pydata.org/pandas-docs/stable/user_guide/indexing.html#returning-a-view-versus-a-copy\n",
      "  test_x['test'] = test_y\n"
     ]
    },
    {
     "name": "stdout",
     "output_type": "stream",
     "text": [
      "CPU times: user 1h 15min 51s, sys: 25 s, total: 1h 16min 16s\n",
      "Wall time: 10min 8s\n"
     ]
    },
    {
     "data": {
      "image/png": "[encoded data removed]",
      "text/plain": [
       "<Figure size 720x504 with 1 Axes>"
      ]
     },
     "metadata": {
      "needs_background": "light"
     },
     "output_type": "display_data"
    }
   ],
   "source": [
    "%%time\n",
    "grad, _ = plot_scatter(XGBClassifier(random_state=42, n_jobs=6, use_label_encoder=False),\n",
    "            flights.drop(columns=['DEP_DELAY_GROUP', 'target']),\n",
    "            flights.target)"
   ]
  },
  {
   "cell_type": "markdown",
   "metadata": {},
   "source": [
    "## Анализ результатов"
   ]
  },
  {
   "cell_type": "markdown",
   "metadata": {},
   "source": [
    "Добавление новых признаков лучшим образом сказалось на качестве классификации. Но данных всё же не хватает для большой уверенности распознания больших задержек отправления. Такие важные данные как время технического обслуживания самолёта, время ожидания стыковочного рейса, время загрузки багажа, загруженность ВВП, скорее всего, не удастся раздобыть."
   ]
  }
 ],
 "metadata": {
  "kernelspec": {
   "display_name": "Python 3",
   "language": "python",
   "name": "python3"
  },
  "language_info": {
   "codemirror_mode": {
    "name": "ipython",
    "version": 3
   },
   "file_extension": ".py",
   "mimetype": "text/x-python",
   "name": "python",
   "nbconvert_exporter": "python",
   "pygments_lexer": "ipython3",
   "version": "3.8.5"
  }
 },
 "nbformat": 4,
 "nbformat_minor": 4
}
